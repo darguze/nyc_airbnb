{
 "cells": [
  {
   "cell_type": "markdown",
   "id": "4e8ca5ad",
   "metadata": {},
   "source": [
    "# Baigiamasis darbas"
   ]
  },
  {
   "cell_type": "markdown",
   "id": "5460fd67",
   "metadata": {},
   "source": [
    "# New York City Airbnb duomenų analizė"
   ]
  },
  {
   "cell_type": "code",
   "execution_count": 1,
   "id": "f70033f4",
   "metadata": {
    "scrolled": false
   },
   "outputs": [
    {
     "data": {
      "text/html": [
       "<div>\n",
       "<style scoped>\n",
       "    .dataframe tbody tr th:only-of-type {\n",
       "        vertical-align: middle;\n",
       "    }\n",
       "\n",
       "    .dataframe tbody tr th {\n",
       "        vertical-align: top;\n",
       "    }\n",
       "\n",
       "    .dataframe thead th {\n",
       "        text-align: right;\n",
       "    }\n",
       "</style>\n",
       "<table border=\"1\" class=\"dataframe\">\n",
       "  <thead>\n",
       "    <tr style=\"text-align: right;\">\n",
       "      <th></th>\n",
       "      <th>name</th>\n",
       "      <th>host_id</th>\n",
       "      <th>host_name</th>\n",
       "      <th>neighbourhood_group</th>\n",
       "      <th>neighbourhood</th>\n",
       "      <th>latitude</th>\n",
       "      <th>longitude</th>\n",
       "      <th>room_type</th>\n",
       "      <th>price</th>\n",
       "      <th>minimum_nights</th>\n",
       "      <th>number_of_reviews</th>\n",
       "      <th>last_review</th>\n",
       "      <th>reviews_per_month</th>\n",
       "      <th>calculated_host_listings_count</th>\n",
       "      <th>availability_365</th>\n",
       "    </tr>\n",
       "    <tr>\n",
       "      <th>id</th>\n",
       "      <th></th>\n",
       "      <th></th>\n",
       "      <th></th>\n",
       "      <th></th>\n",
       "      <th></th>\n",
       "      <th></th>\n",
       "      <th></th>\n",
       "      <th></th>\n",
       "      <th></th>\n",
       "      <th></th>\n",
       "      <th></th>\n",
       "      <th></th>\n",
       "      <th></th>\n",
       "      <th></th>\n",
       "      <th></th>\n",
       "    </tr>\n",
       "  </thead>\n",
       "  <tbody>\n",
       "    <tr>\n",
       "      <th>2539</th>\n",
       "      <td>Clean &amp; quiet apt home by the park</td>\n",
       "      <td>2787</td>\n",
       "      <td>John</td>\n",
       "      <td>Brooklyn</td>\n",
       "      <td>Kensington</td>\n",
       "      <td>40.64749</td>\n",
       "      <td>-73.97237</td>\n",
       "      <td>Private room</td>\n",
       "      <td>149</td>\n",
       "      <td>1</td>\n",
       "      <td>9</td>\n",
       "      <td>2018-10-19</td>\n",
       "      <td>0.21</td>\n",
       "      <td>6</td>\n",
       "      <td>365</td>\n",
       "    </tr>\n",
       "    <tr>\n",
       "      <th>2595</th>\n",
       "      <td>Skylit Midtown Castle</td>\n",
       "      <td>2845</td>\n",
       "      <td>Jennifer</td>\n",
       "      <td>Manhattan</td>\n",
       "      <td>Midtown</td>\n",
       "      <td>40.75362</td>\n",
       "      <td>-73.98377</td>\n",
       "      <td>Entire home/apt</td>\n",
       "      <td>225</td>\n",
       "      <td>1</td>\n",
       "      <td>45</td>\n",
       "      <td>2019-05-21</td>\n",
       "      <td>0.38</td>\n",
       "      <td>2</td>\n",
       "      <td>355</td>\n",
       "    </tr>\n",
       "    <tr>\n",
       "      <th>3647</th>\n",
       "      <td>THE VILLAGE OF HARLEM....NEW YORK !</td>\n",
       "      <td>4632</td>\n",
       "      <td>Elisabeth</td>\n",
       "      <td>Manhattan</td>\n",
       "      <td>Harlem</td>\n",
       "      <td>40.80902</td>\n",
       "      <td>-73.94190</td>\n",
       "      <td>Private room</td>\n",
       "      <td>150</td>\n",
       "      <td>3</td>\n",
       "      <td>0</td>\n",
       "      <td>NaN</td>\n",
       "      <td>NaN</td>\n",
       "      <td>1</td>\n",
       "      <td>365</td>\n",
       "    </tr>\n",
       "    <tr>\n",
       "      <th>3831</th>\n",
       "      <td>Cozy Entire Floor of Brownstone</td>\n",
       "      <td>4869</td>\n",
       "      <td>LisaRoxanne</td>\n",
       "      <td>Brooklyn</td>\n",
       "      <td>Clinton Hill</td>\n",
       "      <td>40.68514</td>\n",
       "      <td>-73.95976</td>\n",
       "      <td>Entire home/apt</td>\n",
       "      <td>89</td>\n",
       "      <td>1</td>\n",
       "      <td>270</td>\n",
       "      <td>2019-07-05</td>\n",
       "      <td>4.64</td>\n",
       "      <td>1</td>\n",
       "      <td>194</td>\n",
       "    </tr>\n",
       "    <tr>\n",
       "      <th>5022</th>\n",
       "      <td>Entire Apt: Spacious Studio/Loft by central park</td>\n",
       "      <td>7192</td>\n",
       "      <td>Laura</td>\n",
       "      <td>Manhattan</td>\n",
       "      <td>East Harlem</td>\n",
       "      <td>40.79851</td>\n",
       "      <td>-73.94399</td>\n",
       "      <td>Entire home/apt</td>\n",
       "      <td>80</td>\n",
       "      <td>10</td>\n",
       "      <td>9</td>\n",
       "      <td>2018-11-19</td>\n",
       "      <td>0.10</td>\n",
       "      <td>1</td>\n",
       "      <td>0</td>\n",
       "    </tr>\n",
       "    <tr>\n",
       "      <th>5099</th>\n",
       "      <td>Large Cozy 1 BR Apartment In Midtown East</td>\n",
       "      <td>7322</td>\n",
       "      <td>Chris</td>\n",
       "      <td>Manhattan</td>\n",
       "      <td>Murray Hill</td>\n",
       "      <td>40.74767</td>\n",
       "      <td>-73.97500</td>\n",
       "      <td>Entire home/apt</td>\n",
       "      <td>200</td>\n",
       "      <td>3</td>\n",
       "      <td>74</td>\n",
       "      <td>2019-06-22</td>\n",
       "      <td>0.59</td>\n",
       "      <td>1</td>\n",
       "      <td>129</td>\n",
       "    </tr>\n",
       "    <tr>\n",
       "      <th>5121</th>\n",
       "      <td>BlissArtsSpace!</td>\n",
       "      <td>7356</td>\n",
       "      <td>Garon</td>\n",
       "      <td>Brooklyn</td>\n",
       "      <td>Bedford-Stuyvesant</td>\n",
       "      <td>40.68688</td>\n",
       "      <td>-73.95596</td>\n",
       "      <td>Private room</td>\n",
       "      <td>60</td>\n",
       "      <td>45</td>\n",
       "      <td>49</td>\n",
       "      <td>2017-10-05</td>\n",
       "      <td>0.40</td>\n",
       "      <td>1</td>\n",
       "      <td>0</td>\n",
       "    </tr>\n",
       "    <tr>\n",
       "      <th>5178</th>\n",
       "      <td>Large Furnished Room Near B'way</td>\n",
       "      <td>8967</td>\n",
       "      <td>Shunichi</td>\n",
       "      <td>Manhattan</td>\n",
       "      <td>Hell's Kitchen</td>\n",
       "      <td>40.76489</td>\n",
       "      <td>-73.98493</td>\n",
       "      <td>Private room</td>\n",
       "      <td>79</td>\n",
       "      <td>2</td>\n",
       "      <td>430</td>\n",
       "      <td>2019-06-24</td>\n",
       "      <td>3.47</td>\n",
       "      <td>1</td>\n",
       "      <td>220</td>\n",
       "    </tr>\n",
       "    <tr>\n",
       "      <th>5203</th>\n",
       "      <td>Cozy Clean Guest Room - Family Apt</td>\n",
       "      <td>7490</td>\n",
       "      <td>MaryEllen</td>\n",
       "      <td>Manhattan</td>\n",
       "      <td>Upper West Side</td>\n",
       "      <td>40.80178</td>\n",
       "      <td>-73.96723</td>\n",
       "      <td>Private room</td>\n",
       "      <td>79</td>\n",
       "      <td>2</td>\n",
       "      <td>118</td>\n",
       "      <td>2017-07-21</td>\n",
       "      <td>0.99</td>\n",
       "      <td>1</td>\n",
       "      <td>0</td>\n",
       "    </tr>\n",
       "    <tr>\n",
       "      <th>5238</th>\n",
       "      <td>Cute &amp; Cozy Lower East Side 1 bdrm</td>\n",
       "      <td>7549</td>\n",
       "      <td>Ben</td>\n",
       "      <td>Manhattan</td>\n",
       "      <td>Chinatown</td>\n",
       "      <td>40.71344</td>\n",
       "      <td>-73.99037</td>\n",
       "      <td>Entire home/apt</td>\n",
       "      <td>150</td>\n",
       "      <td>1</td>\n",
       "      <td>160</td>\n",
       "      <td>2019-06-09</td>\n",
       "      <td>1.33</td>\n",
       "      <td>4</td>\n",
       "      <td>188</td>\n",
       "    </tr>\n",
       "  </tbody>\n",
       "</table>\n",
       "</div>"
      ],
      "text/plain": [
       "                                                  name  host_id    host_name  \\\n",
       "id                                                                             \n",
       "2539                Clean & quiet apt home by the park     2787         John   \n",
       "2595                             Skylit Midtown Castle     2845     Jennifer   \n",
       "3647               THE VILLAGE OF HARLEM....NEW YORK !     4632    Elisabeth   \n",
       "3831                   Cozy Entire Floor of Brownstone     4869  LisaRoxanne   \n",
       "5022  Entire Apt: Spacious Studio/Loft by central park     7192        Laura   \n",
       "5099         Large Cozy 1 BR Apartment In Midtown East     7322        Chris   \n",
       "5121                                   BlissArtsSpace!     7356        Garon   \n",
       "5178                  Large Furnished Room Near B'way      8967     Shunichi   \n",
       "5203                Cozy Clean Guest Room - Family Apt     7490    MaryEllen   \n",
       "5238                Cute & Cozy Lower East Side 1 bdrm     7549          Ben   \n",
       "\n",
       "     neighbourhood_group       neighbourhood  latitude  longitude  \\\n",
       "id                                                                  \n",
       "2539            Brooklyn          Kensington  40.64749  -73.97237   \n",
       "2595           Manhattan             Midtown  40.75362  -73.98377   \n",
       "3647           Manhattan              Harlem  40.80902  -73.94190   \n",
       "3831            Brooklyn        Clinton Hill  40.68514  -73.95976   \n",
       "5022           Manhattan         East Harlem  40.79851  -73.94399   \n",
       "5099           Manhattan         Murray Hill  40.74767  -73.97500   \n",
       "5121            Brooklyn  Bedford-Stuyvesant  40.68688  -73.95596   \n",
       "5178           Manhattan      Hell's Kitchen  40.76489  -73.98493   \n",
       "5203           Manhattan     Upper West Side  40.80178  -73.96723   \n",
       "5238           Manhattan           Chinatown  40.71344  -73.99037   \n",
       "\n",
       "            room_type  price  minimum_nights  number_of_reviews last_review  \\\n",
       "id                                                                            \n",
       "2539     Private room    149               1                  9  2018-10-19   \n",
       "2595  Entire home/apt    225               1                 45  2019-05-21   \n",
       "3647     Private room    150               3                  0         NaN   \n",
       "3831  Entire home/apt     89               1                270  2019-07-05   \n",
       "5022  Entire home/apt     80              10                  9  2018-11-19   \n",
       "5099  Entire home/apt    200               3                 74  2019-06-22   \n",
       "5121     Private room     60              45                 49  2017-10-05   \n",
       "5178     Private room     79               2                430  2019-06-24   \n",
       "5203     Private room     79               2                118  2017-07-21   \n",
       "5238  Entire home/apt    150               1                160  2019-06-09   \n",
       "\n",
       "      reviews_per_month  calculated_host_listings_count  availability_365  \n",
       "id                                                                         \n",
       "2539               0.21                               6               365  \n",
       "2595               0.38                               2               355  \n",
       "3647                NaN                               1               365  \n",
       "3831               4.64                               1               194  \n",
       "5022               0.10                               1                 0  \n",
       "5099               0.59                               1               129  \n",
       "5121               0.40                               1                 0  \n",
       "5178               3.47                               1               220  \n",
       "5203               0.99                               1                 0  \n",
       "5238               1.33                               4               188  "
      ]
     },
     "execution_count": 1,
     "metadata": {},
     "output_type": "execute_result"
    }
   ],
   "source": [
    "# Duomenų įsikėlimas\n",
    "import pandas as pd\n",
    "df_nyc = pd.read_csv(r'C:\\Users\\sandr\\Downloads\\archive\\AB_NYC_2019.csv', index_col = 0)\n",
    "df_nyc.head(10)"
   ]
  },
  {
   "cell_type": "markdown",
   "id": "0b74fa98",
   "metadata": {},
   "source": [
    "## 1. Duomenų valymas ir tvarkymas"
   ]
  },
  {
   "cell_type": "code",
   "execution_count": 2,
   "id": "865295e1",
   "metadata": {},
   "outputs": [],
   "source": [
    "# importuoju duomenų analizei reikalingus modulius\n",
    "import numpy as np\n",
    "import matplotlib\n",
    "import matplotlib.pyplot as plt\n",
    "import seaborn as sns\n",
    "import datetime as dt"
   ]
  },
  {
   "cell_type": "code",
   "execution_count": 3,
   "id": "91c2ae59",
   "metadata": {},
   "outputs": [
    {
     "data": {
      "text/plain": [
       "name                              Clean & quiet apt home by the park\n",
       "host_id                                                         2787\n",
       "host_name                                                       John\n",
       "neighbourhood_group                                         Brooklyn\n",
       "neighbourhood                                             Kensington\n",
       "latitude                                                    40.64749\n",
       "longitude                                                  -73.97237\n",
       "room_type                                               Private room\n",
       "price                                                            149\n",
       "minimum_nights                                                     1\n",
       "number_of_reviews                                                  9\n",
       "last_review                                               2018-10-19\n",
       "reviews_per_month                                               0.21\n",
       "calculated_host_listings_count                                     6\n",
       "availability_365                                                 365\n",
       "Name: 2539, dtype: object"
      ]
     },
     "execution_count": 3,
     "metadata": {},
     "output_type": "execute_result"
    }
   ],
   "source": [
    "# patikrinu kokius turiu stulpelius bei duomenis (pateikiu patogiau matomus nei naudojant head)\n",
    "df_nyc.iloc[0]"
   ]
  },
  {
   "cell_type": "code",
   "execution_count": 4,
   "id": "0f91aaa9",
   "metadata": {
    "scrolled": true
   },
   "outputs": [
    {
     "name": "stdout",
     "output_type": "stream",
     "text": [
      "<class 'pandas.core.frame.DataFrame'>\n",
      "Int64Index: 48895 entries, 2539 to 36487245\n",
      "Data columns (total 15 columns):\n",
      " #   Column                          Non-Null Count  Dtype  \n",
      "---  ------                          --------------  -----  \n",
      " 0   name                            48879 non-null  object \n",
      " 1   host_id                         48895 non-null  int64  \n",
      " 2   host_name                       48874 non-null  object \n",
      " 3   neighbourhood_group             48895 non-null  object \n",
      " 4   neighbourhood                   48895 non-null  object \n",
      " 5   latitude                        48895 non-null  float64\n",
      " 6   longitude                       48895 non-null  float64\n",
      " 7   room_type                       48895 non-null  object \n",
      " 8   price                           48895 non-null  int64  \n",
      " 9   minimum_nights                  48895 non-null  int64  \n",
      " 10  number_of_reviews               48895 non-null  int64  \n",
      " 11  last_review                     38843 non-null  object \n",
      " 12  reviews_per_month               38843 non-null  float64\n",
      " 13  calculated_host_listings_count  48895 non-null  int64  \n",
      " 14  availability_365                48895 non-null  int64  \n",
      "dtypes: float64(3), int64(6), object(6)\n",
      "memory usage: 6.0+ MB\n"
     ]
    }
   ],
   "source": [
    "#patikrinu duomenų tipus (df_nyc.dtypes)\n",
    "df_nyc.info()"
   ]
  },
  {
   "cell_type": "code",
   "execution_count": 5,
   "id": "0adc7eb3",
   "metadata": {},
   "outputs": [],
   "source": [
    "# nustatau kokio laikotarpio yra turimi duomenys\n",
    "\n",
    "# df_nyc['last_review'] = df_nyc['last_review'].astype('string')\n",
    "# df_nyc.loc[:,'last_review'].agg([min, max])\n",
    "\n",
    "# min    2011-03-28\n",
    "# max    2019-07-08\n",
    "\n",
    "# užkomentuota, todėl, kad sekančiame žingsnyje keisiu 'last review' į datos tipą iš object tipo, o ne string."
   ]
  },
  {
   "cell_type": "code",
   "execution_count": 6,
   "id": "82838396",
   "metadata": {},
   "outputs": [],
   "source": [
    "# norint analizuoti duomenis pagal turimą laikotarpį, pasikeičiu duomenų tipą į datos.\n",
    "df_nyc['last_review'] = df_nyc['last_review'].astype('datetime64')\n",
    "# jei reiks keisti price tipa df_nyc['price'] = df_nyc['price'].astype('string')"
   ]
  },
  {
   "cell_type": "code",
   "execution_count": 7,
   "id": "4b56227e",
   "metadata": {
    "scrolled": true
   },
   "outputs": [
    {
     "data": {
      "text/plain": [
       "(48895, 15)"
      ]
     },
     "execution_count": 7,
     "metadata": {},
     "output_type": "execute_result"
    }
   ],
   "source": [
    "# duomenų struktūra\n",
    "df_nyc.shape"
   ]
  },
  {
   "cell_type": "code",
   "execution_count": 8,
   "id": "7f16fc77",
   "metadata": {},
   "outputs": [
    {
     "name": "stdout",
     "output_type": "stream",
     "text": [
      "47905 11452\n"
     ]
    }
   ],
   "source": [
    "# kiek yra unikalių apartamentų bei kiek yra savininkų\n",
    "apartments = df_nyc['name'].nunique()\n",
    "hosts = df_nyc['host_name'].nunique()\n",
    "print(apartments, hosts)"
   ]
  },
  {
   "cell_type": "code",
   "execution_count": 9,
   "id": "2c9e8b65",
   "metadata": {
    "scrolled": true
   },
   "outputs": [
    {
     "data": {
      "text/plain": [
       "0"
      ]
     },
     "execution_count": 9,
     "metadata": {},
     "output_type": "execute_result"
    }
   ],
   "source": [
    "# tikrinu ar duomenyse yra dublikatų\n",
    "df_nyc.duplicated().sum()"
   ]
  },
  {
   "cell_type": "code",
   "execution_count": 10,
   "id": "fa9b96b0",
   "metadata": {
    "scrolled": true
   },
   "outputs": [
    {
     "data": {
      "text/plain": [
       "name                                 16\n",
       "host_id                               0\n",
       "host_name                            21\n",
       "neighbourhood_group                   0\n",
       "neighbourhood                         0\n",
       "latitude                              0\n",
       "longitude                             0\n",
       "room_type                             0\n",
       "price                                 0\n",
       "minimum_nights                        0\n",
       "number_of_reviews                     0\n",
       "last_review                       10052\n",
       "reviews_per_month                 10052\n",
       "calculated_host_listings_count        0\n",
       "availability_365                      0\n",
       "dtype: int64"
      ]
     },
     "execution_count": 10,
     "metadata": {},
     "output_type": "execute_result"
    }
   ],
   "source": [
    "# nustatau ar duomenyse yra NaN reikšmių bei suskaičiuoju jas pagal turimus stulpelius\n",
    "df_nyc.isna().sum()"
   ]
  },
  {
   "cell_type": "code",
   "execution_count": 11,
   "id": "85abffa0",
   "metadata": {
    "scrolled": true
   },
   "outputs": [],
   "source": [
    "# pakeičiu turimą indeksą į apartamento savininko indeksą\n",
    "df_nyc = df_nyc.set_index('host_id')"
   ]
  },
  {
   "cell_type": "code",
   "execution_count": 12,
   "id": "07ef9d40",
   "metadata": {},
   "outputs": [],
   "source": [
    "# panaikinu duomenų analizei nereikalingus stulpelius\n",
    "df_nyc = df_nyc.drop(['host_name', 'calculated_host_listings_count'], axis=1)"
   ]
  },
  {
   "cell_type": "code",
   "execution_count": 13,
   "id": "de798342",
   "metadata": {
    "scrolled": true
   },
   "outputs": [
    {
     "data": {
      "text/html": [
       "<div>\n",
       "<style scoped>\n",
       "    .dataframe tbody tr th:only-of-type {\n",
       "        vertical-align: middle;\n",
       "    }\n",
       "\n",
       "    .dataframe tbody tr th {\n",
       "        vertical-align: top;\n",
       "    }\n",
       "\n",
       "    .dataframe thead th {\n",
       "        text-align: right;\n",
       "    }\n",
       "</style>\n",
       "<table border=\"1\" class=\"dataframe\">\n",
       "  <thead>\n",
       "    <tr style=\"text-align: right;\">\n",
       "      <th></th>\n",
       "      <th>name</th>\n",
       "      <th>neighbourhood_group</th>\n",
       "      <th>neighbourhood</th>\n",
       "      <th>latitude</th>\n",
       "      <th>longitude</th>\n",
       "      <th>room_type</th>\n",
       "      <th>price</th>\n",
       "      <th>minimum_nights</th>\n",
       "      <th>number_of_reviews</th>\n",
       "      <th>last_review</th>\n",
       "      <th>reviews_per_month</th>\n",
       "      <th>availability_365</th>\n",
       "    </tr>\n",
       "    <tr>\n",
       "      <th>host_id</th>\n",
       "      <th></th>\n",
       "      <th></th>\n",
       "      <th></th>\n",
       "      <th></th>\n",
       "      <th></th>\n",
       "      <th></th>\n",
       "      <th></th>\n",
       "      <th></th>\n",
       "      <th></th>\n",
       "      <th></th>\n",
       "      <th></th>\n",
       "      <th></th>\n",
       "    </tr>\n",
       "  </thead>\n",
       "  <tbody>\n",
       "    <tr>\n",
       "      <th>4632</th>\n",
       "      <td>THE VILLAGE OF HARLEM....NEW YORK !</td>\n",
       "      <td>Manhattan</td>\n",
       "      <td>Harlem</td>\n",
       "      <td>40.80902</td>\n",
       "      <td>-73.94190</td>\n",
       "      <td>Private room</td>\n",
       "      <td>150</td>\n",
       "      <td>3</td>\n",
       "      <td>0</td>\n",
       "      <td>NaT</td>\n",
       "      <td>NaN</td>\n",
       "      <td>365</td>\n",
       "    </tr>\n",
       "    <tr>\n",
       "      <th>17985</th>\n",
       "      <td>Huge 2 BR Upper East  Cental Park</td>\n",
       "      <td>Manhattan</td>\n",
       "      <td>East Harlem</td>\n",
       "      <td>40.79685</td>\n",
       "      <td>-73.94872</td>\n",
       "      <td>Entire home/apt</td>\n",
       "      <td>190</td>\n",
       "      <td>7</td>\n",
       "      <td>0</td>\n",
       "      <td>NaT</td>\n",
       "      <td>NaN</td>\n",
       "      <td>249</td>\n",
       "    </tr>\n",
       "    <tr>\n",
       "      <th>26394</th>\n",
       "      <td>Magnifique Suite au N de Manhattan - vue Cloitres</td>\n",
       "      <td>Manhattan</td>\n",
       "      <td>Inwood</td>\n",
       "      <td>40.86754</td>\n",
       "      <td>-73.92639</td>\n",
       "      <td>Private room</td>\n",
       "      <td>80</td>\n",
       "      <td>4</td>\n",
       "      <td>0</td>\n",
       "      <td>NaT</td>\n",
       "      <td>NaN</td>\n",
       "      <td>0</td>\n",
       "    </tr>\n",
       "    <tr>\n",
       "      <th>7355</th>\n",
       "      <td>Clean and Quiet in Brooklyn</td>\n",
       "      <td>Brooklyn</td>\n",
       "      <td>Bedford-Stuyvesant</td>\n",
       "      <td>40.68876</td>\n",
       "      <td>-73.94312</td>\n",
       "      <td>Private room</td>\n",
       "      <td>35</td>\n",
       "      <td>60</td>\n",
       "      <td>0</td>\n",
       "      <td>NaT</td>\n",
       "      <td>NaN</td>\n",
       "      <td>365</td>\n",
       "    </tr>\n",
       "    <tr>\n",
       "      <th>45445</th>\n",
       "      <td>Country space in the city</td>\n",
       "      <td>Brooklyn</td>\n",
       "      <td>Flatbush</td>\n",
       "      <td>40.63702</td>\n",
       "      <td>-73.96327</td>\n",
       "      <td>Private room</td>\n",
       "      <td>150</td>\n",
       "      <td>1</td>\n",
       "      <td>0</td>\n",
       "      <td>NaT</td>\n",
       "      <td>NaN</td>\n",
       "      <td>365</td>\n",
       "    </tr>\n",
       "    <tr>\n",
       "      <th>...</th>\n",
       "      <td>...</td>\n",
       "      <td>...</td>\n",
       "      <td>...</td>\n",
       "      <td>...</td>\n",
       "      <td>...</td>\n",
       "      <td>...</td>\n",
       "      <td>...</td>\n",
       "      <td>...</td>\n",
       "      <td>...</td>\n",
       "      <td>...</td>\n",
       "      <td>...</td>\n",
       "      <td>...</td>\n",
       "    </tr>\n",
       "    <tr>\n",
       "      <th>8232441</th>\n",
       "      <td>Charming one bedroom - newly renovated rowhouse</td>\n",
       "      <td>Brooklyn</td>\n",
       "      <td>Bedford-Stuyvesant</td>\n",
       "      <td>40.67853</td>\n",
       "      <td>-73.94995</td>\n",
       "      <td>Private room</td>\n",
       "      <td>70</td>\n",
       "      <td>2</td>\n",
       "      <td>0</td>\n",
       "      <td>NaT</td>\n",
       "      <td>NaN</td>\n",
       "      <td>9</td>\n",
       "    </tr>\n",
       "    <tr>\n",
       "      <th>6570630</th>\n",
       "      <td>Affordable room in Bushwick/East Williamsburg</td>\n",
       "      <td>Brooklyn</td>\n",
       "      <td>Bushwick</td>\n",
       "      <td>40.70184</td>\n",
       "      <td>-73.93317</td>\n",
       "      <td>Private room</td>\n",
       "      <td>40</td>\n",
       "      <td>4</td>\n",
       "      <td>0</td>\n",
       "      <td>NaT</td>\n",
       "      <td>NaN</td>\n",
       "      <td>36</td>\n",
       "    </tr>\n",
       "    <tr>\n",
       "      <th>23492952</th>\n",
       "      <td>Sunny Studio at Historical Neighborhood</td>\n",
       "      <td>Manhattan</td>\n",
       "      <td>Harlem</td>\n",
       "      <td>40.81475</td>\n",
       "      <td>-73.94867</td>\n",
       "      <td>Entire home/apt</td>\n",
       "      <td>115</td>\n",
       "      <td>10</td>\n",
       "      <td>0</td>\n",
       "      <td>NaT</td>\n",
       "      <td>NaN</td>\n",
       "      <td>27</td>\n",
       "    </tr>\n",
       "    <tr>\n",
       "      <th>30985759</th>\n",
       "      <td>43rd St. Time Square-cozy single bed</td>\n",
       "      <td>Manhattan</td>\n",
       "      <td>Hell's Kitchen</td>\n",
       "      <td>40.75751</td>\n",
       "      <td>-73.99112</td>\n",
       "      <td>Shared room</td>\n",
       "      <td>55</td>\n",
       "      <td>1</td>\n",
       "      <td>0</td>\n",
       "      <td>NaT</td>\n",
       "      <td>NaN</td>\n",
       "      <td>2</td>\n",
       "    </tr>\n",
       "    <tr>\n",
       "      <th>68119814</th>\n",
       "      <td>Trendy duplex in the very heart of Hell's Kitchen</td>\n",
       "      <td>Manhattan</td>\n",
       "      <td>Hell's Kitchen</td>\n",
       "      <td>40.76404</td>\n",
       "      <td>-73.98933</td>\n",
       "      <td>Private room</td>\n",
       "      <td>90</td>\n",
       "      <td>7</td>\n",
       "      <td>0</td>\n",
       "      <td>NaT</td>\n",
       "      <td>NaN</td>\n",
       "      <td>23</td>\n",
       "    </tr>\n",
       "  </tbody>\n",
       "</table>\n",
       "<p>10052 rows × 12 columns</p>\n",
       "</div>"
      ],
      "text/plain": [
       "                                                       name  \\\n",
       "host_id                                                       \n",
       "4632                    THE VILLAGE OF HARLEM....NEW YORK !   \n",
       "17985                     Huge 2 BR Upper East  Cental Park   \n",
       "26394     Magnifique Suite au N de Manhattan - vue Cloitres   \n",
       "7355                            Clean and Quiet in Brooklyn   \n",
       "45445                             Country space in the city   \n",
       "...                                                     ...   \n",
       "8232441     Charming one bedroom - newly renovated rowhouse   \n",
       "6570630       Affordable room in Bushwick/East Williamsburg   \n",
       "23492952            Sunny Studio at Historical Neighborhood   \n",
       "30985759               43rd St. Time Square-cozy single bed   \n",
       "68119814  Trendy duplex in the very heart of Hell's Kitchen   \n",
       "\n",
       "         neighbourhood_group       neighbourhood  latitude  longitude  \\\n",
       "host_id                                                                 \n",
       "4632               Manhattan              Harlem  40.80902  -73.94190   \n",
       "17985              Manhattan         East Harlem  40.79685  -73.94872   \n",
       "26394              Manhattan              Inwood  40.86754  -73.92639   \n",
       "7355                Brooklyn  Bedford-Stuyvesant  40.68876  -73.94312   \n",
       "45445               Brooklyn            Flatbush  40.63702  -73.96327   \n",
       "...                      ...                 ...       ...        ...   \n",
       "8232441             Brooklyn  Bedford-Stuyvesant  40.67853  -73.94995   \n",
       "6570630             Brooklyn            Bushwick  40.70184  -73.93317   \n",
       "23492952           Manhattan              Harlem  40.81475  -73.94867   \n",
       "30985759           Manhattan      Hell's Kitchen  40.75751  -73.99112   \n",
       "68119814           Manhattan      Hell's Kitchen  40.76404  -73.98933   \n",
       "\n",
       "                room_type  price  minimum_nights  number_of_reviews  \\\n",
       "host_id                                                               \n",
       "4632         Private room    150               3                  0   \n",
       "17985     Entire home/apt    190               7                  0   \n",
       "26394        Private room     80               4                  0   \n",
       "7355         Private room     35              60                  0   \n",
       "45445        Private room    150               1                  0   \n",
       "...                   ...    ...             ...                ...   \n",
       "8232441      Private room     70               2                  0   \n",
       "6570630      Private room     40               4                  0   \n",
       "23492952  Entire home/apt    115              10                  0   \n",
       "30985759      Shared room     55               1                  0   \n",
       "68119814     Private room     90               7                  0   \n",
       "\n",
       "         last_review  reviews_per_month  availability_365  \n",
       "host_id                                                    \n",
       "4632             NaT                NaN               365  \n",
       "17985            NaT                NaN               249  \n",
       "26394            NaT                NaN                 0  \n",
       "7355             NaT                NaN               365  \n",
       "45445            NaT                NaN               365  \n",
       "...              ...                ...               ...  \n",
       "8232441          NaT                NaN                 9  \n",
       "6570630          NaT                NaN                36  \n",
       "23492952         NaT                NaN                27  \n",
       "30985759         NaT                NaN                 2  \n",
       "68119814         NaT                NaN                23  \n",
       "\n",
       "[10052 rows x 12 columns]"
      ]
     },
     "execution_count": 13,
     "metadata": {},
     "output_type": "execute_result"
    }
   ],
   "source": [
    "# patikrinu duomenis, kuriuose 'reviews_per_month' yra NaN reikšmės\n",
    "df_nyc[df_nyc['reviews_per_month'].isna()]"
   ]
  },
  {
   "cell_type": "code",
   "execution_count": 14,
   "id": "4ef09036",
   "metadata": {},
   "outputs": [],
   "source": [
    "# tos eilutės, kuriuose 'reviews_per_month' yra NaN reikšmės, apartamentai neturi nei vieno atsiliepimo.\n",
    "# kad neiškreipti duomenų analizės, 'last_review' ir 'reviews_per_month' eilučių su NaN reikšmėmis nenaikinu."
   ]
  },
  {
   "cell_type": "code",
   "execution_count": 15,
   "id": "02fd6cba",
   "metadata": {},
   "outputs": [],
   "source": [
    "# užpildau reviews_per_month NaN reikšmes 0\n",
    "df_nyc['reviews_per_month'] = df_nyc['reviews_per_month'].fillna(0.0)"
   ]
  },
  {
   "cell_type": "code",
   "execution_count": 16,
   "id": "4333d563",
   "metadata": {},
   "outputs": [
    {
     "data": {
      "text/plain": [
       "name                      16\n",
       "neighbourhood_group        0\n",
       "neighbourhood              0\n",
       "latitude                   0\n",
       "longitude                  0\n",
       "room_type                  0\n",
       "price                      0\n",
       "minimum_nights             0\n",
       "number_of_reviews          0\n",
       "last_review            10052\n",
       "reviews_per_month          0\n",
       "availability_365           0\n",
       "dtype: int64"
      ]
     },
     "execution_count": 16,
     "metadata": {},
     "output_type": "execute_result"
    }
   ],
   "source": [
    "#           šio žingsnio nusprendžiau nedaryti - užpildau 'last_review' reikšmes su reikšmėmis esančiomis iš viršaus\n",
    "#           norint pašalinti visas NaN reikšmes, jei to reikalaus kuri vizualizacija, naudosiu: \n",
    "#           df_nyc = df_nyc.dropna(axis = 0, how ='any')\n",
    "# dar kartą patikrinu kiek turiu NaN reikšmių kiekiename stulpelyje\n",
    "df_nyc.isna().sum() \n"
   ]
  },
  {
   "cell_type": "code",
   "execution_count": 17,
   "id": "6d87cfd1",
   "metadata": {
    "scrolled": true
   },
   "outputs": [
    {
     "data": {
      "text/html": [
       "<div>\n",
       "<style scoped>\n",
       "    .dataframe tbody tr th:only-of-type {\n",
       "        vertical-align: middle;\n",
       "    }\n",
       "\n",
       "    .dataframe tbody tr th {\n",
       "        vertical-align: top;\n",
       "    }\n",
       "\n",
       "    .dataframe thead th {\n",
       "        text-align: right;\n",
       "    }\n",
       "</style>\n",
       "<table border=\"1\" class=\"dataframe\">\n",
       "  <thead>\n",
       "    <tr style=\"text-align: right;\">\n",
       "      <th></th>\n",
       "      <th>name</th>\n",
       "      <th>neighbourhood_group</th>\n",
       "      <th>neighbourhood</th>\n",
       "      <th>latitude</th>\n",
       "      <th>longitude</th>\n",
       "      <th>room_type</th>\n",
       "      <th>price</th>\n",
       "      <th>minimum_nights</th>\n",
       "      <th>number_of_reviews</th>\n",
       "      <th>last_review</th>\n",
       "      <th>reviews_per_month</th>\n",
       "      <th>availability_365</th>\n",
       "    </tr>\n",
       "    <tr>\n",
       "      <th>host_id</th>\n",
       "      <th></th>\n",
       "      <th></th>\n",
       "      <th></th>\n",
       "      <th></th>\n",
       "      <th></th>\n",
       "      <th></th>\n",
       "      <th></th>\n",
       "      <th></th>\n",
       "      <th></th>\n",
       "      <th></th>\n",
       "      <th></th>\n",
       "      <th></th>\n",
       "    </tr>\n",
       "  </thead>\n",
       "  <tbody>\n",
       "    <tr>\n",
       "      <th>8993084</th>\n",
       "      <td>Huge Brooklyn Brownstone Living, Close to it all.</td>\n",
       "      <td>Brooklyn</td>\n",
       "      <td>Bedford-Stuyvesant</td>\n",
       "      <td>40.69023</td>\n",
       "      <td>-73.95428</td>\n",
       "      <td>Private room</td>\n",
       "      <td>0</td>\n",
       "      <td>4</td>\n",
       "      <td>1</td>\n",
       "      <td>2018-01-06</td>\n",
       "      <td>0.05</td>\n",
       "      <td>28</td>\n",
       "    </tr>\n",
       "    <tr>\n",
       "      <th>131697576</th>\n",
       "      <td>★Hostel Style Room | Ideal Traveling Buddies★</td>\n",
       "      <td>Bronx</td>\n",
       "      <td>East Morrisania</td>\n",
       "      <td>40.83296</td>\n",
       "      <td>-73.88668</td>\n",
       "      <td>Private room</td>\n",
       "      <td>0</td>\n",
       "      <td>2</td>\n",
       "      <td>55</td>\n",
       "      <td>2019-06-24</td>\n",
       "      <td>2.56</td>\n",
       "      <td>127</td>\n",
       "    </tr>\n",
       "    <tr>\n",
       "      <th>15787004</th>\n",
       "      <td>MARTIAL LOFT 3: REDEMPTION (upstairs, 2nd room)</td>\n",
       "      <td>Brooklyn</td>\n",
       "      <td>Bushwick</td>\n",
       "      <td>40.69467</td>\n",
       "      <td>-73.92433</td>\n",
       "      <td>Private room</td>\n",
       "      <td>0</td>\n",
       "      <td>2</td>\n",
       "      <td>16</td>\n",
       "      <td>2019-05-18</td>\n",
       "      <td>0.71</td>\n",
       "      <td>0</td>\n",
       "    </tr>\n",
       "    <tr>\n",
       "      <th>1641537</th>\n",
       "      <td>Sunny, Quiet Room in Greenpoint</td>\n",
       "      <td>Brooklyn</td>\n",
       "      <td>Greenpoint</td>\n",
       "      <td>40.72462</td>\n",
       "      <td>-73.94072</td>\n",
       "      <td>Private room</td>\n",
       "      <td>0</td>\n",
       "      <td>2</td>\n",
       "      <td>12</td>\n",
       "      <td>2017-10-27</td>\n",
       "      <td>0.53</td>\n",
       "      <td>0</td>\n",
       "    </tr>\n",
       "    <tr>\n",
       "      <th>10132166</th>\n",
       "      <td>Modern apartment in the heart of Williamsburg</td>\n",
       "      <td>Brooklyn</td>\n",
       "      <td>Williamsburg</td>\n",
       "      <td>40.70838</td>\n",
       "      <td>-73.94645</td>\n",
       "      <td>Entire home/apt</td>\n",
       "      <td>0</td>\n",
       "      <td>5</td>\n",
       "      <td>3</td>\n",
       "      <td>2018-01-02</td>\n",
       "      <td>0.15</td>\n",
       "      <td>73</td>\n",
       "    </tr>\n",
       "    <tr>\n",
       "      <th>86327101</th>\n",
       "      <td>Spacious comfortable master bedroom with nice ...</td>\n",
       "      <td>Brooklyn</td>\n",
       "      <td>Bedford-Stuyvesant</td>\n",
       "      <td>40.68173</td>\n",
       "      <td>-73.91342</td>\n",
       "      <td>Private room</td>\n",
       "      <td>0</td>\n",
       "      <td>1</td>\n",
       "      <td>93</td>\n",
       "      <td>2019-06-15</td>\n",
       "      <td>4.28</td>\n",
       "      <td>176</td>\n",
       "    </tr>\n",
       "    <tr>\n",
       "      <th>86327101</th>\n",
       "      <td>Contemporary bedroom in brownstone with nice view</td>\n",
       "      <td>Brooklyn</td>\n",
       "      <td>Bedford-Stuyvesant</td>\n",
       "      <td>40.68279</td>\n",
       "      <td>-73.91170</td>\n",
       "      <td>Private room</td>\n",
       "      <td>0</td>\n",
       "      <td>1</td>\n",
       "      <td>95</td>\n",
       "      <td>2019-06-21</td>\n",
       "      <td>4.37</td>\n",
       "      <td>232</td>\n",
       "    </tr>\n",
       "    <tr>\n",
       "      <th>86327101</th>\n",
       "      <td>Cozy yet spacious private brownstone bedroom</td>\n",
       "      <td>Brooklyn</td>\n",
       "      <td>Bedford-Stuyvesant</td>\n",
       "      <td>40.68258</td>\n",
       "      <td>-73.91284</td>\n",
       "      <td>Private room</td>\n",
       "      <td>0</td>\n",
       "      <td>1</td>\n",
       "      <td>95</td>\n",
       "      <td>2019-06-23</td>\n",
       "      <td>4.35</td>\n",
       "      <td>222</td>\n",
       "    </tr>\n",
       "    <tr>\n",
       "      <th>13709292</th>\n",
       "      <td>the best you can find</td>\n",
       "      <td>Manhattan</td>\n",
       "      <td>Murray Hill</td>\n",
       "      <td>40.75091</td>\n",
       "      <td>-73.97597</td>\n",
       "      <td>Entire home/apt</td>\n",
       "      <td>0</td>\n",
       "      <td>3</td>\n",
       "      <td>0</td>\n",
       "      <td>NaT</td>\n",
       "      <td>0.00</td>\n",
       "      <td>0</td>\n",
       "    </tr>\n",
       "    <tr>\n",
       "      <th>101970559</th>\n",
       "      <td>Coliving in Brooklyn! Modern design / Shared room</td>\n",
       "      <td>Brooklyn</td>\n",
       "      <td>Bushwick</td>\n",
       "      <td>40.69211</td>\n",
       "      <td>-73.90670</td>\n",
       "      <td>Shared room</td>\n",
       "      <td>0</td>\n",
       "      <td>30</td>\n",
       "      <td>2</td>\n",
       "      <td>2019-06-22</td>\n",
       "      <td>0.11</td>\n",
       "      <td>333</td>\n",
       "    </tr>\n",
       "    <tr>\n",
       "      <th>101970559</th>\n",
       "      <td>Best Coliving space ever! Shared room.</td>\n",
       "      <td>Brooklyn</td>\n",
       "      <td>Bushwick</td>\n",
       "      <td>40.69166</td>\n",
       "      <td>-73.90928</td>\n",
       "      <td>Shared room</td>\n",
       "      <td>0</td>\n",
       "      <td>30</td>\n",
       "      <td>5</td>\n",
       "      <td>2019-05-24</td>\n",
       "      <td>0.26</td>\n",
       "      <td>139</td>\n",
       "    </tr>\n",
       "  </tbody>\n",
       "</table>\n",
       "</div>"
      ],
      "text/plain": [
       "                                                        name  \\\n",
       "host_id                                                        \n",
       "8993084    Huge Brooklyn Brownstone Living, Close to it all.   \n",
       "131697576      ★Hostel Style Room | Ideal Traveling Buddies★   \n",
       "15787004     MARTIAL LOFT 3: REDEMPTION (upstairs, 2nd room)   \n",
       "1641537                      Sunny, Quiet Room in Greenpoint   \n",
       "10132166       Modern apartment in the heart of Williamsburg   \n",
       "86327101   Spacious comfortable master bedroom with nice ...   \n",
       "86327101   Contemporary bedroom in brownstone with nice view   \n",
       "86327101        Cozy yet spacious private brownstone bedroom   \n",
       "13709292                               the best you can find   \n",
       "101970559  Coliving in Brooklyn! Modern design / Shared room   \n",
       "101970559             Best Coliving space ever! Shared room.   \n",
       "\n",
       "          neighbourhood_group       neighbourhood  latitude  longitude  \\\n",
       "host_id                                                                  \n",
       "8993084              Brooklyn  Bedford-Stuyvesant  40.69023  -73.95428   \n",
       "131697576               Bronx     East Morrisania  40.83296  -73.88668   \n",
       "15787004             Brooklyn            Bushwick  40.69467  -73.92433   \n",
       "1641537              Brooklyn          Greenpoint  40.72462  -73.94072   \n",
       "10132166             Brooklyn        Williamsburg  40.70838  -73.94645   \n",
       "86327101             Brooklyn  Bedford-Stuyvesant  40.68173  -73.91342   \n",
       "86327101             Brooklyn  Bedford-Stuyvesant  40.68279  -73.91170   \n",
       "86327101             Brooklyn  Bedford-Stuyvesant  40.68258  -73.91284   \n",
       "13709292            Manhattan         Murray Hill  40.75091  -73.97597   \n",
       "101970559            Brooklyn            Bushwick  40.69211  -73.90670   \n",
       "101970559            Brooklyn            Bushwick  40.69166  -73.90928   \n",
       "\n",
       "                 room_type  price  minimum_nights  number_of_reviews  \\\n",
       "host_id                                                                \n",
       "8993084       Private room      0               4                  1   \n",
       "131697576     Private room      0               2                 55   \n",
       "15787004      Private room      0               2                 16   \n",
       "1641537       Private room      0               2                 12   \n",
       "10132166   Entire home/apt      0               5                  3   \n",
       "86327101      Private room      0               1                 93   \n",
       "86327101      Private room      0               1                 95   \n",
       "86327101      Private room      0               1                 95   \n",
       "13709292   Entire home/apt      0               3                  0   \n",
       "101970559      Shared room      0              30                  2   \n",
       "101970559      Shared room      0              30                  5   \n",
       "\n",
       "          last_review  reviews_per_month  availability_365  \n",
       "host_id                                                     \n",
       "8993084    2018-01-06               0.05                28  \n",
       "131697576  2019-06-24               2.56               127  \n",
       "15787004   2019-05-18               0.71                 0  \n",
       "1641537    2017-10-27               0.53                 0  \n",
       "10132166   2018-01-02               0.15                73  \n",
       "86327101   2019-06-15               4.28               176  \n",
       "86327101   2019-06-21               4.37               232  \n",
       "86327101   2019-06-23               4.35               222  \n",
       "13709292          NaT               0.00                 0  \n",
       "101970559  2019-06-22               0.11               333  \n",
       "101970559  2019-05-24               0.26               139  "
      ]
     },
     "execution_count": 17,
     "metadata": {},
     "output_type": "execute_result"
    }
   ],
   "source": [
    "# patikrinu, ar yra eilučių, kur nuomos kaina būtų lygi 0.\n",
    "df_nyc[df_nyc['price'] == 0]"
   ]
  },
  {
   "cell_type": "code",
   "execution_count": 18,
   "id": "f3535e09",
   "metadata": {},
   "outputs": [],
   "source": [
    "# pašalinu eilutes, kur nuomos kaina lygi 0.\n",
    "df_nyc = df_nyc.loc[~((df_nyc['price'] == 0))]"
   ]
  },
  {
   "cell_type": "markdown",
   "id": "72a1c6b0",
   "metadata": {},
   "source": [
    "## 2. Darbo tikslai"
   ]
  },
  {
   "cell_type": "code",
   "execution_count": 19,
   "id": "7a6ad00e",
   "metadata": {},
   "outputs": [],
   "source": [
    "   # Nusistatau darbo tiklus, ką norėsiu išanalizuoti:\n",
    "# Išanalizuoti duomenis pagal rajonus.\n",
    "# Išanalizuoti kainas. Kas turi joms įtakos. \n",
    "# Išanalizuoti duomenis pagal kaimynystes.\n",
    "# Nustatyti ryšius tarp kintamųjų.\n",
    "# Išanalizuoti duomenis pagal turimą laikotarpį."
   ]
  },
  {
   "cell_type": "markdown",
   "id": "87e2d668",
   "metadata": {},
   "source": [
    "## 3. Duomenų analizavimas bei vizualizacija"
   ]
  },
  {
   "cell_type": "markdown",
   "id": "772de118",
   "metadata": {},
   "source": [
    "#### 3.1. Būsto tipo bei rajonų analizė"
   ]
  },
  {
   "cell_type": "code",
   "execution_count": 20,
   "id": "d80964ca",
   "metadata": {
    "scrolled": true
   },
   "outputs": [
    {
     "name": "stdout",
     "output_type": "stream",
     "text": [
      "Room Types: ['Private room' 'Entire home/apt' 'Shared room']\n",
      "Neighbourhood Groups: ['Brooklyn' 'Manhattan' 'Queens' 'Staten Island' 'Bronx']\n"
     ]
    }
   ],
   "source": [
    "# nustatau kokie yra būsto tipai bei Niujorko rajonai\n",
    "print('Room Types:', df_nyc['room_type'].unique())\n",
    "print('Neighbourhood Groups:', df_nyc['neighbourhood_group'].unique())"
   ]
  },
  {
   "cell_type": "code",
   "execution_count": 21,
   "id": "5c73e28c",
   "metadata": {
    "scrolled": true
   },
   "outputs": [
    {
     "data": {
      "text/plain": [
       "room_type\n",
       "Entire home/apt    25407\n",
       "Private room       22319\n",
       "Shared room         1158\n",
       "Name: room_type, dtype: int64"
      ]
     },
     "execution_count": 21,
     "metadata": {},
     "output_type": "execute_result"
    }
   ],
   "source": [
    "# Suskaičiuoju būstų kiekį pagal būsto tipą. \n",
    "df_nyc.groupby('room_type')['room_type'].count().sort_values(ascending = False)"
   ]
  },
  {
   "cell_type": "code",
   "execution_count": 22,
   "id": "043ca869",
   "metadata": {
    "scrolled": false
   },
   "outputs": [
    {
     "data": {
      "image/png": "[encoded data removed]",
      "text/plain": [
       "<Figure size 720x360 with 1 Axes>"
      ]
     },
     "metadata": {},
     "output_type": "display_data"
    }
   ],
   "source": [
    "# kokia dalis būstų pagal būsto tipą\n",
    "plt.style.use('seaborn-pastel')\n",
    "plt.figure(figsize=(10,5))\n",
    "plt.title('Room type')\n",
    "plt.pie(df_nyc.room_type.value_counts(), \n",
    "        labels=df_nyc.room_type.value_counts().index,\n",
    "        autopct='%1.1f%%', \n",
    "        startangle=180)\n",
    "plt.show()"
   ]
  },
  {
   "cell_type": "code",
   "execution_count": 23,
   "id": "ccac3ce7",
   "metadata": {},
   "outputs": [
    {
     "data": {
      "text/plain": [
       "neighbourhood_group\n",
       "Manhattan        21660\n",
       "Brooklyn         20095\n",
       "Queens            5666\n",
       "Bronx             1090\n",
       "Staten Island      373\n",
       "Name: neighbourhood_group, dtype: int64"
      ]
     },
     "execution_count": 23,
     "metadata": {},
     "output_type": "execute_result"
    }
   ],
   "source": [
    "# Suskaičiuoju būstų kiekį pagal Niujorko rajonus. \n",
    "df_nyc.groupby('neighbourhood_group')['neighbourhood_group'].count().sort_values(ascending = False)"
   ]
  },
  {
   "cell_type": "code",
   "execution_count": 24,
   "id": "ade77625",
   "metadata": {
    "scrolled": true
   },
   "outputs": [
    {
     "data": {
      "image/png": "[encoded data removed]",
      "text/plain": [
       "<Figure size 720x360 with 1 Axes>"
      ]
     },
     "metadata": {},
     "output_type": "display_data"
    }
   ],
   "source": [
    "# kokia dalis būstų pagal Niujorko rajonus\n",
    "plt.style.use('seaborn-pastel')\n",
    "plt.figure(figsize=(10,5))\n",
    "plt.title('Neighbourhood Group')\n",
    "plt.pie(df_nyc.neighbourhood_group.value_counts(),\n",
    "        labels=df_nyc.neighbourhood_group.value_counts().index,\n",
    "        autopct='%1.1f%%',\n",
    "        startangle=180)\n",
    "plt.show()"
   ]
  },
  {
   "cell_type": "code",
   "execution_count": 25,
   "id": "b9e3c436",
   "metadata": {
    "scrolled": true
   },
   "outputs": [
    {
     "data": {
      "image/png": "[encoded data removed]",
      "text/plain": [
       "<Figure size 864x360 with 1 Axes>"
      ]
     },
     "metadata": {
      "needs_background": "light"
     },
     "output_type": "display_data"
    }
   ],
   "source": [
    "# nuomojamo būsto pasiskirstymas pagal kambario tipą bei rajonus.\n",
    "fig, ax = plt.subplots(figsize=(12, 5))\n",
    "sns.countplot(\n",
    "    data = df_nyc,\n",
    "    x='room_type',\n",
    "    hue ='neighbourhood_group',\n",
    "    palette='pastel', \n",
    ").set(title='Accommodation by room type and neigbourhood group')\n",
    "plt.show()"
   ]
  },
  {
   "cell_type": "code",
   "execution_count": 26,
   "id": "d27b2dc1",
   "metadata": {},
   "outputs": [],
   "source": [
    "# Iš grafiko viršuje galima matyti, jog Brooklyne siūloma daugiau privačių kambarių nei Manhattane, \n",
    "# kuris siūlo daugiausiai nuomojamų objektų iš visų. Manhattane yra ženkliai daugiau būstų siūlančių \"Entire home/apt\""
   ]
  },
  {
   "cell_type": "markdown",
   "id": "dbde2a10",
   "metadata": {},
   "source": [
    "### 3.2. Būsto kainų analizė"
   ]
  },
  {
   "cell_type": "code",
   "execution_count": 27,
   "id": "c9a152b7",
   "metadata": {
    "scrolled": false
   },
   "outputs": [
    {
     "data": {
      "text/plain": [
       "count    48884.000000\n",
       "mean       152.755053\n",
       "std        240.170260\n",
       "min         10.000000\n",
       "25%         69.000000\n",
       "50%        106.000000\n",
       "75%        175.000000\n",
       "max      10000.000000\n",
       "Name: price, dtype: float64"
      ]
     },
     "execution_count": 27,
     "metadata": {},
     "output_type": "execute_result"
    }
   ],
   "source": [
    "# kaina pagal vidurkį, medianą. Mažiausia, didžiausia kaina.\n",
    "df_nyc['price'].describe()"
   ]
  },
  {
   "cell_type": "code",
   "execution_count": 28,
   "id": "7f360ed7",
   "metadata": {},
   "outputs": [
    {
     "data": {
      "text/html": [
       "<div>\n",
       "<style scoped>\n",
       "    .dataframe tbody tr th:only-of-type {\n",
       "        vertical-align: middle;\n",
       "    }\n",
       "\n",
       "    .dataframe tbody tr th {\n",
       "        vertical-align: top;\n",
       "    }\n",
       "\n",
       "    .dataframe thead th {\n",
       "        text-align: right;\n",
       "    }\n",
       "</style>\n",
       "<table border=\"1\" class=\"dataframe\">\n",
       "  <thead>\n",
       "    <tr style=\"text-align: right;\">\n",
       "      <th></th>\n",
       "      <th>name</th>\n",
       "      <th>neighbourhood_group</th>\n",
       "      <th>neighbourhood</th>\n",
       "      <th>latitude</th>\n",
       "      <th>longitude</th>\n",
       "      <th>room_type</th>\n",
       "      <th>price</th>\n",
       "      <th>minimum_nights</th>\n",
       "      <th>number_of_reviews</th>\n",
       "      <th>last_review</th>\n",
       "      <th>reviews_per_month</th>\n",
       "      <th>availability_365</th>\n",
       "    </tr>\n",
       "    <tr>\n",
       "      <th>host_id</th>\n",
       "      <th></th>\n",
       "      <th></th>\n",
       "      <th></th>\n",
       "      <th></th>\n",
       "      <th></th>\n",
       "      <th></th>\n",
       "      <th></th>\n",
       "      <th></th>\n",
       "      <th></th>\n",
       "      <th></th>\n",
       "      <th></th>\n",
       "      <th></th>\n",
       "    </tr>\n",
       "  </thead>\n",
       "  <tbody>\n",
       "    <tr>\n",
       "      <th>836168</th>\n",
       "      <td>Luxury 1Bed with Central Park Views</td>\n",
       "      <td>Manhattan</td>\n",
       "      <td>Upper West Side</td>\n",
       "      <td>40.77428</td>\n",
       "      <td>-73.98594</td>\n",
       "      <td>Entire home/apt</td>\n",
       "      <td>1000</td>\n",
       "      <td>30</td>\n",
       "      <td>44</td>\n",
       "      <td>2015-09-28</td>\n",
       "      <td>0.53</td>\n",
       "      <td>364</td>\n",
       "    </tr>\n",
       "    <tr>\n",
       "      <th>273174</th>\n",
       "      <td>Tribeca Loft w/ Private Elevator</td>\n",
       "      <td>Manhattan</td>\n",
       "      <td>Tribeca</td>\n",
       "      <td>40.72008</td>\n",
       "      <td>-74.00430</td>\n",
       "      <td>Entire home/apt</td>\n",
       "      <td>1000</td>\n",
       "      <td>1</td>\n",
       "      <td>25</td>\n",
       "      <td>2019-06-22</td>\n",
       "      <td>0.36</td>\n",
       "      <td>37</td>\n",
       "    </tr>\n",
       "    <tr>\n",
       "      <th>836168</th>\n",
       "      <td>Luxury 1 Bedroom Central Park Views</td>\n",
       "      <td>Manhattan</td>\n",
       "      <td>Upper West Side</td>\n",
       "      <td>40.79208</td>\n",
       "      <td>-73.96482</td>\n",
       "      <td>Entire home/apt</td>\n",
       "      <td>1000</td>\n",
       "      <td>30</td>\n",
       "      <td>24</td>\n",
       "      <td>2016-01-27</td>\n",
       "      <td>0.33</td>\n",
       "      <td>364</td>\n",
       "    </tr>\n",
       "    <tr>\n",
       "      <th>6414296</th>\n",
       "      <td>Spacious 2 bedroom near Times Sq</td>\n",
       "      <td>Manhattan</td>\n",
       "      <td>Hell's Kitchen</td>\n",
       "      <td>40.75930</td>\n",
       "      <td>-73.99143</td>\n",
       "      <td>Entire home/apt</td>\n",
       "      <td>1000</td>\n",
       "      <td>1</td>\n",
       "      <td>0</td>\n",
       "      <td>NaT</td>\n",
       "      <td>0.00</td>\n",
       "      <td>365</td>\n",
       "    </tr>\n",
       "    <tr>\n",
       "      <th>10317189</th>\n",
       "      <td>UWS MANHATTAN APT FOR SUPERBOWL WE</td>\n",
       "      <td>Manhattan</td>\n",
       "      <td>Upper West Side</td>\n",
       "      <td>40.79321</td>\n",
       "      <td>-73.96940</td>\n",
       "      <td>Entire home/apt</td>\n",
       "      <td>1000</td>\n",
       "      <td>1</td>\n",
       "      <td>0</td>\n",
       "      <td>NaT</td>\n",
       "      <td>0.00</td>\n",
       "      <td>0</td>\n",
       "    </tr>\n",
       "    <tr>\n",
       "      <th>800720</th>\n",
       "      <td>Sunny Apartment in West Village</td>\n",
       "      <td>Manhattan</td>\n",
       "      <td>West Village</td>\n",
       "      <td>40.73187</td>\n",
       "      <td>-74.00865</td>\n",
       "      <td>Entire home/apt</td>\n",
       "      <td>1000</td>\n",
       "      <td>3</td>\n",
       "      <td>0</td>\n",
       "      <td>NaT</td>\n",
       "      <td>0.00</td>\n",
       "      <td>0</td>\n",
       "    </tr>\n",
       "    <tr>\n",
       "      <th>11339193</th>\n",
       "      <td>Large 1-BR Apt w/Fireplace &amp; Patio</td>\n",
       "      <td>Manhattan</td>\n",
       "      <td>Midtown</td>\n",
       "      <td>40.74364</td>\n",
       "      <td>-73.98303</td>\n",
       "      <td>Entire home/apt</td>\n",
       "      <td>1000</td>\n",
       "      <td>3</td>\n",
       "      <td>0</td>\n",
       "      <td>NaT</td>\n",
       "      <td>0.00</td>\n",
       "      <td>0</td>\n",
       "    </tr>\n",
       "    <tr>\n",
       "      <th>11385753</th>\n",
       "      <td>An Accomodating Apartment on Wall</td>\n",
       "      <td>Manhattan</td>\n",
       "      <td>Financial District</td>\n",
       "      <td>40.70511</td>\n",
       "      <td>-74.00943</td>\n",
       "      <td>Shared room</td>\n",
       "      <td>1000</td>\n",
       "      <td>1</td>\n",
       "      <td>0</td>\n",
       "      <td>NaT</td>\n",
       "      <td>0.00</td>\n",
       "      <td>0</td>\n",
       "    </tr>\n",
       "    <tr>\n",
       "      <th>11483903</th>\n",
       "      <td>Luxury 1 Bedroom Condo</td>\n",
       "      <td>Manhattan</td>\n",
       "      <td>Greenwich Village</td>\n",
       "      <td>40.73411</td>\n",
       "      <td>-73.99723</td>\n",
       "      <td>Entire home/apt</td>\n",
       "      <td>1000</td>\n",
       "      <td>1</td>\n",
       "      <td>0</td>\n",
       "      <td>NaT</td>\n",
       "      <td>0.00</td>\n",
       "      <td>0</td>\n",
       "    </tr>\n",
       "    <tr>\n",
       "      <th>2675913</th>\n",
       "      <td>Super Bowl Wknd! 3-Bedroom Apt UWS</td>\n",
       "      <td>Manhattan</td>\n",
       "      <td>Upper West Side</td>\n",
       "      <td>40.78574</td>\n",
       "      <td>-73.97640</td>\n",
       "      <td>Entire home/apt</td>\n",
       "      <td>1000</td>\n",
       "      <td>1</td>\n",
       "      <td>0</td>\n",
       "      <td>NaT</td>\n",
       "      <td>0.00</td>\n",
       "      <td>0</td>\n",
       "    </tr>\n",
       "    <tr>\n",
       "      <th>11540028</th>\n",
       "      <td>Spacious 2 BR in North Chelsea</td>\n",
       "      <td>Manhattan</td>\n",
       "      <td>Chelsea</td>\n",
       "      <td>40.74999</td>\n",
       "      <td>-73.99687</td>\n",
       "      <td>Entire home/apt</td>\n",
       "      <td>1000</td>\n",
       "      <td>3</td>\n",
       "      <td>0</td>\n",
       "      <td>NaT</td>\n",
       "      <td>0.00</td>\n",
       "      <td>0</td>\n",
       "    </tr>\n",
       "    <tr>\n",
       "      <th>11708656</th>\n",
       "      <td>SuperBowl Weekend Rental! 3 BR/1ba</td>\n",
       "      <td>Manhattan</td>\n",
       "      <td>Upper East Side</td>\n",
       "      <td>40.77477</td>\n",
       "      <td>-73.95503</td>\n",
       "      <td>Entire home/apt</td>\n",
       "      <td>1000</td>\n",
       "      <td>1</td>\n",
       "      <td>0</td>\n",
       "      <td>NaT</td>\n",
       "      <td>0.00</td>\n",
       "      <td>0</td>\n",
       "    </tr>\n",
       "    <tr>\n",
       "      <th>11732741</th>\n",
       "      <td>2BD/2BA Manhattan Apt</td>\n",
       "      <td>Manhattan</td>\n",
       "      <td>Financial District</td>\n",
       "      <td>40.70825</td>\n",
       "      <td>-74.00495</td>\n",
       "      <td>Entire home/apt</td>\n",
       "      <td>1000</td>\n",
       "      <td>1</td>\n",
       "      <td>0</td>\n",
       "      <td>NaT</td>\n",
       "      <td>0.00</td>\n",
       "      <td>0</td>\n",
       "    </tr>\n",
       "    <tr>\n",
       "      <th>3655542</th>\n",
       "      <td>Clean &amp; Comfy Modern Townhouse</td>\n",
       "      <td>Brooklyn</td>\n",
       "      <td>Boerum Hill</td>\n",
       "      <td>40.68732</td>\n",
       "      <td>-73.98254</td>\n",
       "      <td>Entire home/apt</td>\n",
       "      <td>1000</td>\n",
       "      <td>4</td>\n",
       "      <td>0</td>\n",
       "      <td>NaT</td>\n",
       "      <td>0.00</td>\n",
       "      <td>0</td>\n",
       "    </tr>\n",
       "    <tr>\n",
       "      <th>1331180</th>\n",
       "      <td>Brooklyn townhouse for filming</td>\n",
       "      <td>Brooklyn</td>\n",
       "      <td>Bushwick</td>\n",
       "      <td>40.68450</td>\n",
       "      <td>-73.91193</td>\n",
       "      <td>Entire home/apt</td>\n",
       "      <td>1000</td>\n",
       "      <td>2</td>\n",
       "      <td>0</td>\n",
       "      <td>NaT</td>\n",
       "      <td>0.00</td>\n",
       "      <td>0</td>\n",
       "    </tr>\n",
       "    <tr>\n",
       "      <th>9854191</th>\n",
       "      <td>Harlem Getaway Jazz Mansion</td>\n",
       "      <td>Manhattan</td>\n",
       "      <td>Harlem</td>\n",
       "      <td>40.80469</td>\n",
       "      <td>-73.94594</td>\n",
       "      <td>Entire home/apt</td>\n",
       "      <td>1000</td>\n",
       "      <td>3</td>\n",
       "      <td>38</td>\n",
       "      <td>2019-06-09</td>\n",
       "      <td>0.72</td>\n",
       "      <td>270</td>\n",
       "    </tr>\n",
       "    <tr>\n",
       "      <th>22506665</th>\n",
       "      <td>Victorian with Stunning Views of NYC Harbor</td>\n",
       "      <td>Staten Island</td>\n",
       "      <td>St. George</td>\n",
       "      <td>40.64571</td>\n",
       "      <td>-74.07835</td>\n",
       "      <td>Entire home/apt</td>\n",
       "      <td>1000</td>\n",
       "      <td>1</td>\n",
       "      <td>0</td>\n",
       "      <td>NaT</td>\n",
       "      <td>0.00</td>\n",
       "      <td>364</td>\n",
       "    </tr>\n",
       "    <tr>\n",
       "      <th>19924780</th>\n",
       "      <td>Bright Design Loft Perfect for Photoshoots</td>\n",
       "      <td>Manhattan</td>\n",
       "      <td>Chelsea</td>\n",
       "      <td>40.74968</td>\n",
       "      <td>-73.99381</td>\n",
       "      <td>Entire home/apt</td>\n",
       "      <td>1000</td>\n",
       "      <td>2</td>\n",
       "      <td>95</td>\n",
       "      <td>2018-12-30</td>\n",
       "      <td>1.70</td>\n",
       "      <td>353</td>\n",
       "    </tr>\n",
       "    <tr>\n",
       "      <th>724633</th>\n",
       "      <td>Stylish 3,000 sq ft loft in TriBeCa</td>\n",
       "      <td>Manhattan</td>\n",
       "      <td>Tribeca</td>\n",
       "      <td>40.72325</td>\n",
       "      <td>-74.00991</td>\n",
       "      <td>Entire home/apt</td>\n",
       "      <td>1000</td>\n",
       "      <td>2</td>\n",
       "      <td>6</td>\n",
       "      <td>2018-03-14</td>\n",
       "      <td>0.25</td>\n",
       "      <td>19</td>\n",
       "    </tr>\n",
       "    <tr>\n",
       "      <th>25870353</th>\n",
       "      <td>Gramercy Park View Pied A Terre</td>\n",
       "      <td>Manhattan</td>\n",
       "      <td>Gramercy</td>\n",
       "      <td>40.73661</td>\n",
       "      <td>-73.98706</td>\n",
       "      <td>Entire home/apt</td>\n",
       "      <td>1000</td>\n",
       "      <td>7</td>\n",
       "      <td>0</td>\n",
       "      <td>NaT</td>\n",
       "      <td>0.00</td>\n",
       "      <td>365</td>\n",
       "    </tr>\n",
       "    <tr>\n",
       "      <th>836168</th>\n",
       "      <td>Luxury 1-Bedroom King Suite with Central Park ...</td>\n",
       "      <td>Manhattan</td>\n",
       "      <td>Upper West Side</td>\n",
       "      <td>40.79222</td>\n",
       "      <td>-73.96445</td>\n",
       "      <td>Entire home/apt</td>\n",
       "      <td>1000</td>\n",
       "      <td>30</td>\n",
       "      <td>27</td>\n",
       "      <td>2017-05-04</td>\n",
       "      <td>0.57</td>\n",
       "      <td>364</td>\n",
       "    </tr>\n",
       "    <tr>\n",
       "      <th>9739435</th>\n",
       "      <td>Brooklyn Apt w/ Recording Studio</td>\n",
       "      <td>Brooklyn</td>\n",
       "      <td>Gowanus</td>\n",
       "      <td>40.67475</td>\n",
       "      <td>-73.99707</td>\n",
       "      <td>Entire home/apt</td>\n",
       "      <td>1000</td>\n",
       "      <td>2</td>\n",
       "      <td>0</td>\n",
       "      <td>NaT</td>\n",
       "      <td>0.00</td>\n",
       "      <td>365</td>\n",
       "    </tr>\n",
       "    <tr>\n",
       "      <th>21052756</th>\n",
       "      <td>Beautiful Brooklyn Brownstone</td>\n",
       "      <td>Brooklyn</td>\n",
       "      <td>Cobble Hill</td>\n",
       "      <td>40.68561</td>\n",
       "      <td>-73.99572</td>\n",
       "      <td>Entire home/apt</td>\n",
       "      <td>1000</td>\n",
       "      <td>5</td>\n",
       "      <td>1</td>\n",
       "      <td>2016-01-03</td>\n",
       "      <td>0.02</td>\n",
       "      <td>0</td>\n",
       "    </tr>\n",
       "    <tr>\n",
       "      <th>1342653</th>\n",
       "      <td>Sun-drenched SoHo Duplex Loft</td>\n",
       "      <td>Manhattan</td>\n",
       "      <td>SoHo</td>\n",
       "      <td>40.72543</td>\n",
       "      <td>-74.00242</td>\n",
       "      <td>Entire home/apt</td>\n",
       "      <td>1000</td>\n",
       "      <td>4</td>\n",
       "      <td>10</td>\n",
       "      <td>2018-11-26</td>\n",
       "      <td>0.23</td>\n",
       "      <td>326</td>\n",
       "    </tr>\n",
       "    <tr>\n",
       "      <th>64632152</th>\n",
       "      <td>Luxury Penthouse w/ Roofdecks</td>\n",
       "      <td>Manhattan</td>\n",
       "      <td>East Village</td>\n",
       "      <td>40.72399</td>\n",
       "      <td>-73.99109</td>\n",
       "      <td>Entire home/apt</td>\n",
       "      <td>1000</td>\n",
       "      <td>4</td>\n",
       "      <td>19</td>\n",
       "      <td>2019-05-17</td>\n",
       "      <td>0.51</td>\n",
       "      <td>349</td>\n",
       "    </tr>\n",
       "    <tr>\n",
       "      <th>69852641</th>\n",
       "      <td>Superhost-Designer Legal 4 Bed Townhouse Midto...</td>\n",
       "      <td>Manhattan</td>\n",
       "      <td>Hell's Kitchen</td>\n",
       "      <td>40.76303</td>\n",
       "      <td>-73.98767</td>\n",
       "      <td>Entire home/apt</td>\n",
       "      <td>1000</td>\n",
       "      <td>2</td>\n",
       "      <td>24</td>\n",
       "      <td>2019-05-30</td>\n",
       "      <td>0.71</td>\n",
       "      <td>274</td>\n",
       "    </tr>\n",
       "    <tr>\n",
       "      <th>69852641</th>\n",
       "      <td>Superhost-Pristine 4 Bed Legal Townhouse Midto...</td>\n",
       "      <td>Manhattan</td>\n",
       "      <td>Hell's Kitchen</td>\n",
       "      <td>40.76300</td>\n",
       "      <td>-73.98642</td>\n",
       "      <td>Entire home/apt</td>\n",
       "      <td>1000</td>\n",
       "      <td>2</td>\n",
       "      <td>23</td>\n",
       "      <td>2019-06-09</td>\n",
       "      <td>0.70</td>\n",
       "      <td>240</td>\n",
       "    </tr>\n",
       "    <tr>\n",
       "      <th>70208173</th>\n",
       "      <td>Private Room in Williamsburg Duplex</td>\n",
       "      <td>Brooklyn</td>\n",
       "      <td>Williamsburg</td>\n",
       "      <td>40.71267</td>\n",
       "      <td>-73.95367</td>\n",
       "      <td>Private room</td>\n",
       "      <td>1000</td>\n",
       "      <td>35</td>\n",
       "      <td>6</td>\n",
       "      <td>2016-06-02</td>\n",
       "      <td>0.16</td>\n",
       "      <td>365</td>\n",
       "    </tr>\n",
       "    <tr>\n",
       "      <th>71948176</th>\n",
       "      <td>Bright &amp; Cozy Furnitured 4 Sublet</td>\n",
       "      <td>Brooklyn</td>\n",
       "      <td>Bedford-Stuyvesant</td>\n",
       "      <td>40.68917</td>\n",
       "      <td>-73.95528</td>\n",
       "      <td>Private room</td>\n",
       "      <td>1000</td>\n",
       "      <td>1</td>\n",
       "      <td>0</td>\n",
       "      <td>NaT</td>\n",
       "      <td>0.00</td>\n",
       "      <td>0</td>\n",
       "    </tr>\n",
       "    <tr>\n",
       "      <th>68890</th>\n",
       "      <td>Planta Baja Studio</td>\n",
       "      <td>Brooklyn</td>\n",
       "      <td>Bedford-Stuyvesant</td>\n",
       "      <td>40.68786</td>\n",
       "      <td>-73.95688</td>\n",
       "      <td>Entire home/apt</td>\n",
       "      <td>1000</td>\n",
       "      <td>1</td>\n",
       "      <td>10</td>\n",
       "      <td>2018-06-14</td>\n",
       "      <td>0.28</td>\n",
       "      <td>365</td>\n",
       "    </tr>\n",
       "    <tr>\n",
       "      <th>39919088</th>\n",
       "      <td>Tribeca Light filled/ Views Apt</td>\n",
       "      <td>Manhattan</td>\n",
       "      <td>Tribeca</td>\n",
       "      <td>40.71928</td>\n",
       "      <td>-74.00799</td>\n",
       "      <td>Entire home/apt</td>\n",
       "      <td>1000</td>\n",
       "      <td>2</td>\n",
       "      <td>0</td>\n",
       "      <td>NaT</td>\n",
       "      <td>0.00</td>\n",
       "      <td>88</td>\n",
       "    </tr>\n",
       "    <tr>\n",
       "      <th>836168</th>\n",
       "      <td>Cityscape Views at Lux 1 Bed/1 Bath in Lincoln...</td>\n",
       "      <td>Manhattan</td>\n",
       "      <td>Upper West Side</td>\n",
       "      <td>40.78065</td>\n",
       "      <td>-73.98253</td>\n",
       "      <td>Entire home/apt</td>\n",
       "      <td>1000</td>\n",
       "      <td>30</td>\n",
       "      <td>17</td>\n",
       "      <td>2017-04-16</td>\n",
       "      <td>0.51</td>\n",
       "      <td>365</td>\n",
       "    </tr>\n",
       "    <tr>\n",
       "      <th>8111912</th>\n",
       "      <td>Sunny Ditmas Park Carriage House (Events Listing)</td>\n",
       "      <td>Brooklyn</td>\n",
       "      <td>Flatbush</td>\n",
       "      <td>40.64335</td>\n",
       "      <td>-73.96745</td>\n",
       "      <td>Entire home/apt</td>\n",
       "      <td>1000</td>\n",
       "      <td>1</td>\n",
       "      <td>1</td>\n",
       "      <td>2019-04-02</td>\n",
       "      <td>0.31</td>\n",
       "      <td>365</td>\n",
       "    </tr>\n",
       "    <tr>\n",
       "      <th>125320407</th>\n",
       "      <td>New Years EVE in NY! Magnificent Private Penth...</td>\n",
       "      <td>Queens</td>\n",
       "      <td>Briarwood</td>\n",
       "      <td>40.70678</td>\n",
       "      <td>-73.80613</td>\n",
       "      <td>Entire home/apt</td>\n",
       "      <td>1000</td>\n",
       "      <td>2</td>\n",
       "      <td>5</td>\n",
       "      <td>2018-10-07</td>\n",
       "      <td>0.27</td>\n",
       "      <td>365</td>\n",
       "    </tr>\n",
       "    <tr>\n",
       "      <th>356490</th>\n",
       "      <td>1BR/1BA in 2BR/2BA Flushing</td>\n",
       "      <td>Queens</td>\n",
       "      <td>Flushing</td>\n",
       "      <td>40.76796</td>\n",
       "      <td>-73.81732</td>\n",
       "      <td>Shared room</td>\n",
       "      <td>1000</td>\n",
       "      <td>1</td>\n",
       "      <td>0</td>\n",
       "      <td>NaT</td>\n",
       "      <td>0.00</td>\n",
       "      <td>0</td>\n",
       "    </tr>\n",
       "    <tr>\n",
       "      <th>7050126</th>\n",
       "      <td>NYC Hotel (Enjoy top tier membership benefits)</td>\n",
       "      <td>Manhattan</td>\n",
       "      <td>Midtown</td>\n",
       "      <td>40.76347</td>\n",
       "      <td>-73.97800</td>\n",
       "      <td>Entire home/apt</td>\n",
       "      <td>1000</td>\n",
       "      <td>1</td>\n",
       "      <td>3</td>\n",
       "      <td>2017-07-29</td>\n",
       "      <td>0.12</td>\n",
       "      <td>90</td>\n",
       "    </tr>\n",
       "    <tr>\n",
       "      <th>31515758</th>\n",
       "      <td>Loft-like turn of the century apartment for sh...</td>\n",
       "      <td>Manhattan</td>\n",
       "      <td>Washington Heights</td>\n",
       "      <td>40.83405</td>\n",
       "      <td>-73.94565</td>\n",
       "      <td>Entire home/apt</td>\n",
       "      <td>1000</td>\n",
       "      <td>1</td>\n",
       "      <td>1</td>\n",
       "      <td>2018-03-18</td>\n",
       "      <td>0.06</td>\n",
       "      <td>79</td>\n",
       "    </tr>\n",
       "    <tr>\n",
       "      <th>65830935</th>\n",
       "      <td>Beautiful Big Brownstone Bedroom w/ Natural Light</td>\n",
       "      <td>Brooklyn</td>\n",
       "      <td>Bedford-Stuyvesant</td>\n",
       "      <td>40.68010</td>\n",
       "      <td>-73.94072</td>\n",
       "      <td>Private room</td>\n",
       "      <td>1000</td>\n",
       "      <td>2</td>\n",
       "      <td>0</td>\n",
       "      <td>NaT</td>\n",
       "      <td>0.00</td>\n",
       "      <td>0</td>\n",
       "    </tr>\n",
       "    <tr>\n",
       "      <th>11242618</th>\n",
       "      <td>SOHO LOFT: 2000sq ft renovated &amp; centrally loc...</td>\n",
       "      <td>Manhattan</td>\n",
       "      <td>SoHo</td>\n",
       "      <td>40.72208</td>\n",
       "      <td>-74.00217</td>\n",
       "      <td>Entire home/apt</td>\n",
       "      <td>1000</td>\n",
       "      <td>5</td>\n",
       "      <td>0</td>\n",
       "      <td>NaT</td>\n",
       "      <td>0.00</td>\n",
       "      <td>364</td>\n",
       "    </tr>\n",
       "    <tr>\n",
       "      <th>72205446</th>\n",
       "      <td>Exclusive  &amp; Luxurious 4BR/4Bath Townhouse</td>\n",
       "      <td>Manhattan</td>\n",
       "      <td>Murray Hill</td>\n",
       "      <td>40.74866</td>\n",
       "      <td>-73.97846</td>\n",
       "      <td>Entire home/apt</td>\n",
       "      <td>1000</td>\n",
       "      <td>3</td>\n",
       "      <td>10</td>\n",
       "      <td>2019-06-03</td>\n",
       "      <td>2.07</td>\n",
       "      <td>310</td>\n",
       "    </tr>\n",
       "    <tr>\n",
       "      <th>163366045</th>\n",
       "      <td>holiday sublet</td>\n",
       "      <td>Manhattan</td>\n",
       "      <td>Harlem</td>\n",
       "      <td>40.81379</td>\n",
       "      <td>-73.95233</td>\n",
       "      <td>Private room</td>\n",
       "      <td>1000</td>\n",
       "      <td>11</td>\n",
       "      <td>0</td>\n",
       "      <td>NaT</td>\n",
       "      <td>0.00</td>\n",
       "      <td>0</td>\n",
       "    </tr>\n",
       "    <tr>\n",
       "      <th>11844979</th>\n",
       "      <td>SHOOTS ONLY -- Large Sunny loft in Williamsburg</td>\n",
       "      <td>Brooklyn</td>\n",
       "      <td>Williamsburg</td>\n",
       "      <td>40.71782</td>\n",
       "      <td>-73.96318</td>\n",
       "      <td>Entire home/apt</td>\n",
       "      <td>1000</td>\n",
       "      <td>1</td>\n",
       "      <td>0</td>\n",
       "      <td>NaT</td>\n",
       "      <td>0.00</td>\n",
       "      <td>179</td>\n",
       "    </tr>\n",
       "    <tr>\n",
       "      <th>3201625</th>\n",
       "      <td>Downtown Loft Location w/ Skyline View &amp; Studio</td>\n",
       "      <td>Manhattan</td>\n",
       "      <td>Chinatown</td>\n",
       "      <td>40.71403</td>\n",
       "      <td>-73.99076</td>\n",
       "      <td>Entire home/apt</td>\n",
       "      <td>1000</td>\n",
       "      <td>1</td>\n",
       "      <td>2</td>\n",
       "      <td>2018-12-18</td>\n",
       "      <td>0.25</td>\n",
       "      <td>365</td>\n",
       "    </tr>\n",
       "    <tr>\n",
       "      <th>18598201</th>\n",
       "      <td>East Village Celebrity Townhouse</td>\n",
       "      <td>Manhattan</td>\n",
       "      <td>East Village</td>\n",
       "      <td>40.72350</td>\n",
       "      <td>-73.98534</td>\n",
       "      <td>Entire home/apt</td>\n",
       "      <td>1000</td>\n",
       "      <td>3</td>\n",
       "      <td>55</td>\n",
       "      <td>2019-07-04</td>\n",
       "      <td>3.50</td>\n",
       "      <td>37</td>\n",
       "    </tr>\n",
       "    <tr>\n",
       "      <th>183779546</th>\n",
       "      <td>TV-PHOTO-FILM-CINEMA-ART GALLERY-MUSIC STUDIO-...</td>\n",
       "      <td>Brooklyn</td>\n",
       "      <td>Williamsburg</td>\n",
       "      <td>40.71824</td>\n",
       "      <td>-73.95175</td>\n",
       "      <td>Entire home/apt</td>\n",
       "      <td>1000</td>\n",
       "      <td>1</td>\n",
       "      <td>9</td>\n",
       "      <td>2019-04-27</td>\n",
       "      <td>0.66</td>\n",
       "      <td>88</td>\n",
       "    </tr>\n",
       "    <tr>\n",
       "      <th>136454672</th>\n",
       "      <td>Garden Duplex close to Central Park</td>\n",
       "      <td>Manhattan</td>\n",
       "      <td>Upper East Side</td>\n",
       "      <td>40.76516</td>\n",
       "      <td>-73.96562</td>\n",
       "      <td>Entire home/apt</td>\n",
       "      <td>1000</td>\n",
       "      <td>3</td>\n",
       "      <td>10</td>\n",
       "      <td>2019-06-08</td>\n",
       "      <td>0.79</td>\n",
       "      <td>84</td>\n",
       "    </tr>\n",
       "    <tr>\n",
       "      <th>26490270</th>\n",
       "      <td>THE 602 SHOWROOM</td>\n",
       "      <td>Brooklyn</td>\n",
       "      <td>Prospect-Lefferts Gardens</td>\n",
       "      <td>40.65925</td>\n",
       "      <td>-73.94862</td>\n",
       "      <td>Entire home/apt</td>\n",
       "      <td>1000</td>\n",
       "      <td>1</td>\n",
       "      <td>1</td>\n",
       "      <td>2018-10-30</td>\n",
       "      <td>0.12</td>\n",
       "      <td>365</td>\n",
       "    </tr>\n",
       "    <tr>\n",
       "      <th>1524825</th>\n",
       "      <td>Penthouse Triplex Jewel - 3000sf</td>\n",
       "      <td>Manhattan</td>\n",
       "      <td>Tribeca</td>\n",
       "      <td>40.72273</td>\n",
       "      <td>-74.01049</td>\n",
       "      <td>Entire home/apt</td>\n",
       "      <td>1000</td>\n",
       "      <td>7</td>\n",
       "      <td>0</td>\n",
       "      <td>NaT</td>\n",
       "      <td>0.00</td>\n",
       "      <td>178</td>\n",
       "    </tr>\n",
       "    <tr>\n",
       "      <th>125320407</th>\n",
       "      <td>New york Multi-unit building</td>\n",
       "      <td>Queens</td>\n",
       "      <td>Jamaica</td>\n",
       "      <td>40.70653</td>\n",
       "      <td>-73.80561</td>\n",
       "      <td>Entire home/apt</td>\n",
       "      <td>1000</td>\n",
       "      <td>2</td>\n",
       "      <td>0</td>\n",
       "      <td>NaT</td>\n",
       "      <td>0.00</td>\n",
       "      <td>365</td>\n",
       "    </tr>\n",
       "    <tr>\n",
       "      <th>189336520</th>\n",
       "      <td>NYC Townhouse &amp; Private Roof Deck</td>\n",
       "      <td>Manhattan</td>\n",
       "      <td>Upper East Side</td>\n",
       "      <td>40.77141</td>\n",
       "      <td>-73.95658</td>\n",
       "      <td>Entire home/apt</td>\n",
       "      <td>1000</td>\n",
       "      <td>4</td>\n",
       "      <td>16</td>\n",
       "      <td>2019-06-15</td>\n",
       "      <td>1.97</td>\n",
       "      <td>66</td>\n",
       "    </tr>\n",
       "    <tr>\n",
       "      <th>222843411</th>\n",
       "      <td>Gilchrist Private</td>\n",
       "      <td>Brooklyn</td>\n",
       "      <td>Brooklyn Heights</td>\n",
       "      <td>40.69615</td>\n",
       "      <td>-73.99682</td>\n",
       "      <td>Entire home/apt</td>\n",
       "      <td>1000</td>\n",
       "      <td>3</td>\n",
       "      <td>0</td>\n",
       "      <td>NaT</td>\n",
       "      <td>0.00</td>\n",
       "      <td>363</td>\n",
       "    </tr>\n",
       "    <tr>\n",
       "      <th>89407287</th>\n",
       "      <td>STEPS FROM BALL DROP IN TIME SQR! Sleeps up to 8!</td>\n",
       "      <td>Manhattan</td>\n",
       "      <td>Midtown</td>\n",
       "      <td>40.76421</td>\n",
       "      <td>-73.97977</td>\n",
       "      <td>Entire home/apt</td>\n",
       "      <td>1000</td>\n",
       "      <td>1</td>\n",
       "      <td>0</td>\n",
       "      <td>NaT</td>\n",
       "      <td>0.00</td>\n",
       "      <td>0</td>\n",
       "    </tr>\n",
       "    <tr>\n",
       "      <th>231163395</th>\n",
       "      <td>Ashly’s apartment</td>\n",
       "      <td>Manhattan</td>\n",
       "      <td>Harlem</td>\n",
       "      <td>40.82206</td>\n",
       "      <td>-73.93799</td>\n",
       "      <td>Private room</td>\n",
       "      <td>1000</td>\n",
       "      <td>30</td>\n",
       "      <td>0</td>\n",
       "      <td>NaT</td>\n",
       "      <td>0.00</td>\n",
       "      <td>90</td>\n",
       "    </tr>\n",
       "    <tr>\n",
       "      <th>273174</th>\n",
       "      <td>Tribeca Loft</td>\n",
       "      <td>Manhattan</td>\n",
       "      <td>Tribeca</td>\n",
       "      <td>40.71943</td>\n",
       "      <td>-74.00435</td>\n",
       "      <td>Entire home/apt</td>\n",
       "      <td>1000</td>\n",
       "      <td>1</td>\n",
       "      <td>2</td>\n",
       "      <td>2019-06-14</td>\n",
       "      <td>0.40</td>\n",
       "      <td>38</td>\n",
       "    </tr>\n",
       "    <tr>\n",
       "      <th>10476957</th>\n",
       "      <td>Greenwich Village Luxury Loft</td>\n",
       "      <td>Manhattan</td>\n",
       "      <td>Greenwich Village</td>\n",
       "      <td>40.73120</td>\n",
       "      <td>-74.00025</td>\n",
       "      <td>Entire home/apt</td>\n",
       "      <td>1000</td>\n",
       "      <td>2</td>\n",
       "      <td>8</td>\n",
       "      <td>2019-05-12</td>\n",
       "      <td>1.59</td>\n",
       "      <td>273</td>\n",
       "    </tr>\n",
       "    <tr>\n",
       "      <th>252545388</th>\n",
       "      <td>Coming soon: stunning Upper West Side apartment</td>\n",
       "      <td>Manhattan</td>\n",
       "      <td>Upper West Side</td>\n",
       "      <td>40.77112</td>\n",
       "      <td>-73.98964</td>\n",
       "      <td>Entire home/apt</td>\n",
       "      <td>1000</td>\n",
       "      <td>31</td>\n",
       "      <td>0</td>\n",
       "      <td>NaT</td>\n",
       "      <td>0.00</td>\n",
       "      <td>103</td>\n",
       "    </tr>\n",
       "    <tr>\n",
       "      <th>5173736</th>\n",
       "      <td>Amazing 3BR private triplex in historic townho...</td>\n",
       "      <td>Manhattan</td>\n",
       "      <td>Gramercy</td>\n",
       "      <td>40.73499</td>\n",
       "      <td>-73.98875</td>\n",
       "      <td>Entire home/apt</td>\n",
       "      <td>1000</td>\n",
       "      <td>3</td>\n",
       "      <td>7</td>\n",
       "      <td>2019-06-10</td>\n",
       "      <td>3.09</td>\n",
       "      <td>286</td>\n",
       "    </tr>\n",
       "    <tr>\n",
       "      <th>262800168</th>\n",
       "      <td>Amazing Townhouse Experience with Private Garden</td>\n",
       "      <td>Manhattan</td>\n",
       "      <td>Midtown</td>\n",
       "      <td>40.74310</td>\n",
       "      <td>-73.98233</td>\n",
       "      <td>Entire home/apt</td>\n",
       "      <td>1000</td>\n",
       "      <td>2</td>\n",
       "      <td>6</td>\n",
       "      <td>2019-06-30</td>\n",
       "      <td>5.29</td>\n",
       "      <td>231</td>\n",
       "    </tr>\n",
       "    <tr>\n",
       "      <th>23732730</th>\n",
       "      <td>VJ'S 5 HOUR YACHT TOUR</td>\n",
       "      <td>Bronx</td>\n",
       "      <td>City Island</td>\n",
       "      <td>40.84443</td>\n",
       "      <td>-73.78497</td>\n",
       "      <td>Entire home/apt</td>\n",
       "      <td>1000</td>\n",
       "      <td>1</td>\n",
       "      <td>0</td>\n",
       "      <td>NaT</td>\n",
       "      <td>0.00</td>\n",
       "      <td>90</td>\n",
       "    </tr>\n",
       "  </tbody>\n",
       "</table>\n",
       "</div>"
      ],
      "text/plain": [
       "                                                        name  \\\n",
       "host_id                                                        \n",
       "836168                   Luxury 1Bed with Central Park Views   \n",
       "273174                      Tribeca Loft w/ Private Elevator   \n",
       "836168                   Luxury 1 Bedroom Central Park Views   \n",
       "6414296                     Spacious 2 bedroom near Times Sq   \n",
       "10317189                  UWS MANHATTAN APT FOR SUPERBOWL WE   \n",
       "800720                       Sunny Apartment in West Village   \n",
       "11339193                  Large 1-BR Apt w/Fireplace & Patio   \n",
       "11385753                   An Accomodating Apartment on Wall   \n",
       "11483903                              Luxury 1 Bedroom Condo   \n",
       "2675913                   Super Bowl Wknd! 3-Bedroom Apt UWS   \n",
       "11540028                      Spacious 2 BR in North Chelsea   \n",
       "11708656                  SuperBowl Weekend Rental! 3 BR/1ba   \n",
       "11732741                               2BD/2BA Manhattan Apt   \n",
       "3655542                       Clean & Comfy Modern Townhouse   \n",
       "1331180                       Brooklyn townhouse for filming   \n",
       "9854191                          Harlem Getaway Jazz Mansion   \n",
       "22506665         Victorian with Stunning Views of NYC Harbor   \n",
       "19924780          Bright Design Loft Perfect for Photoshoots   \n",
       "724633                   Stylish 3,000 sq ft loft in TriBeCa   \n",
       "25870353                     Gramercy Park View Pied A Terre   \n",
       "836168     Luxury 1-Bedroom King Suite with Central Park ...   \n",
       "9739435                     Brooklyn Apt w/ Recording Studio   \n",
       "21052756                       Beautiful Brooklyn Brownstone   \n",
       "1342653                        Sun-drenched SoHo Duplex Loft   \n",
       "64632152                       Luxury Penthouse w/ Roofdecks   \n",
       "69852641   Superhost-Designer Legal 4 Bed Townhouse Midto...   \n",
       "69852641   Superhost-Pristine 4 Bed Legal Townhouse Midto...   \n",
       "70208173                 Private Room in Williamsburg Duplex   \n",
       "71948176                   Bright & Cozy Furnitured 4 Sublet   \n",
       "68890                                     Planta Baja Studio   \n",
       "39919088                     Tribeca Light filled/ Views Apt   \n",
       "836168     Cityscape Views at Lux 1 Bed/1 Bath in Lincoln...   \n",
       "8111912    Sunny Ditmas Park Carriage House (Events Listing)   \n",
       "125320407  New Years EVE in NY! Magnificent Private Penth...   \n",
       "356490                           1BR/1BA in 2BR/2BA Flushing   \n",
       "7050126       NYC Hotel (Enjoy top tier membership benefits)   \n",
       "31515758   Loft-like turn of the century apartment for sh...   \n",
       "65830935   Beautiful Big Brownstone Bedroom w/ Natural Light   \n",
       "11242618   SOHO LOFT: 2000sq ft renovated & centrally loc...   \n",
       "72205446          Exclusive  & Luxurious 4BR/4Bath Townhouse   \n",
       "163366045                                     holiday sublet   \n",
       "11844979     SHOOTS ONLY -- Large Sunny loft in Williamsburg   \n",
       "3201625      Downtown Loft Location w/ Skyline View & Studio   \n",
       "18598201                    East Village Celebrity Townhouse   \n",
       "183779546  TV-PHOTO-FILM-CINEMA-ART GALLERY-MUSIC STUDIO-...   \n",
       "136454672                Garden Duplex close to Central Park   \n",
       "26490270                                    THE 602 SHOWROOM   \n",
       "1524825                     Penthouse Triplex Jewel - 3000sf   \n",
       "125320407                       New york Multi-unit building   \n",
       "189336520                  NYC Townhouse & Private Roof Deck   \n",
       "222843411                                  Gilchrist Private   \n",
       "89407287   STEPS FROM BALL DROP IN TIME SQR! Sleeps up to 8!   \n",
       "231163395                                  Ashly’s apartment   \n",
       "273174                                          Tribeca Loft   \n",
       "10476957                       Greenwich Village Luxury Loft   \n",
       "252545388    Coming soon: stunning Upper West Side apartment   \n",
       "5173736    Amazing 3BR private triplex in historic townho...   \n",
       "262800168   Amazing Townhouse Experience with Private Garden   \n",
       "23732730                              VJ'S 5 HOUR YACHT TOUR   \n",
       "\n",
       "          neighbourhood_group              neighbourhood  latitude  longitude  \\\n",
       "host_id                                                                         \n",
       "836168              Manhattan            Upper West Side  40.77428  -73.98594   \n",
       "273174              Manhattan                    Tribeca  40.72008  -74.00430   \n",
       "836168              Manhattan            Upper West Side  40.79208  -73.96482   \n",
       "6414296             Manhattan             Hell's Kitchen  40.75930  -73.99143   \n",
       "10317189            Manhattan            Upper West Side  40.79321  -73.96940   \n",
       "800720              Manhattan               West Village  40.73187  -74.00865   \n",
       "11339193            Manhattan                    Midtown  40.74364  -73.98303   \n",
       "11385753            Manhattan         Financial District  40.70511  -74.00943   \n",
       "11483903            Manhattan          Greenwich Village  40.73411  -73.99723   \n",
       "2675913             Manhattan            Upper West Side  40.78574  -73.97640   \n",
       "11540028            Manhattan                    Chelsea  40.74999  -73.99687   \n",
       "11708656            Manhattan            Upper East Side  40.77477  -73.95503   \n",
       "11732741            Manhattan         Financial District  40.70825  -74.00495   \n",
       "3655542              Brooklyn                Boerum Hill  40.68732  -73.98254   \n",
       "1331180              Brooklyn                   Bushwick  40.68450  -73.91193   \n",
       "9854191             Manhattan                     Harlem  40.80469  -73.94594   \n",
       "22506665        Staten Island                 St. George  40.64571  -74.07835   \n",
       "19924780            Manhattan                    Chelsea  40.74968  -73.99381   \n",
       "724633              Manhattan                    Tribeca  40.72325  -74.00991   \n",
       "25870353            Manhattan                   Gramercy  40.73661  -73.98706   \n",
       "836168              Manhattan            Upper West Side  40.79222  -73.96445   \n",
       "9739435              Brooklyn                    Gowanus  40.67475  -73.99707   \n",
       "21052756             Brooklyn                Cobble Hill  40.68561  -73.99572   \n",
       "1342653             Manhattan                       SoHo  40.72543  -74.00242   \n",
       "64632152            Manhattan               East Village  40.72399  -73.99109   \n",
       "69852641            Manhattan             Hell's Kitchen  40.76303  -73.98767   \n",
       "69852641            Manhattan             Hell's Kitchen  40.76300  -73.98642   \n",
       "70208173             Brooklyn               Williamsburg  40.71267  -73.95367   \n",
       "71948176             Brooklyn         Bedford-Stuyvesant  40.68917  -73.95528   \n",
       "68890                Brooklyn         Bedford-Stuyvesant  40.68786  -73.95688   \n",
       "39919088            Manhattan                    Tribeca  40.71928  -74.00799   \n",
       "836168              Manhattan            Upper West Side  40.78065  -73.98253   \n",
       "8111912              Brooklyn                   Flatbush  40.64335  -73.96745   \n",
       "125320407              Queens                  Briarwood  40.70678  -73.80613   \n",
       "356490                 Queens                   Flushing  40.76796  -73.81732   \n",
       "7050126             Manhattan                    Midtown  40.76347  -73.97800   \n",
       "31515758            Manhattan         Washington Heights  40.83405  -73.94565   \n",
       "65830935             Brooklyn         Bedford-Stuyvesant  40.68010  -73.94072   \n",
       "11242618            Manhattan                       SoHo  40.72208  -74.00217   \n",
       "72205446            Manhattan                Murray Hill  40.74866  -73.97846   \n",
       "163366045           Manhattan                     Harlem  40.81379  -73.95233   \n",
       "11844979             Brooklyn               Williamsburg  40.71782  -73.96318   \n",
       "3201625             Manhattan                  Chinatown  40.71403  -73.99076   \n",
       "18598201            Manhattan               East Village  40.72350  -73.98534   \n",
       "183779546            Brooklyn               Williamsburg  40.71824  -73.95175   \n",
       "136454672           Manhattan            Upper East Side  40.76516  -73.96562   \n",
       "26490270             Brooklyn  Prospect-Lefferts Gardens  40.65925  -73.94862   \n",
       "1524825             Manhattan                    Tribeca  40.72273  -74.01049   \n",
       "125320407              Queens                    Jamaica  40.70653  -73.80561   \n",
       "189336520           Manhattan            Upper East Side  40.77141  -73.95658   \n",
       "222843411            Brooklyn           Brooklyn Heights  40.69615  -73.99682   \n",
       "89407287            Manhattan                    Midtown  40.76421  -73.97977   \n",
       "231163395           Manhattan                     Harlem  40.82206  -73.93799   \n",
       "273174              Manhattan                    Tribeca  40.71943  -74.00435   \n",
       "10476957            Manhattan          Greenwich Village  40.73120  -74.00025   \n",
       "252545388           Manhattan            Upper West Side  40.77112  -73.98964   \n",
       "5173736             Manhattan                   Gramercy  40.73499  -73.98875   \n",
       "262800168           Manhattan                    Midtown  40.74310  -73.98233   \n",
       "23732730                Bronx                City Island  40.84443  -73.78497   \n",
       "\n",
       "                 room_type  price  minimum_nights  number_of_reviews  \\\n",
       "host_id                                                                \n",
       "836168     Entire home/apt   1000              30                 44   \n",
       "273174     Entire home/apt   1000               1                 25   \n",
       "836168     Entire home/apt   1000              30                 24   \n",
       "6414296    Entire home/apt   1000               1                  0   \n",
       "10317189   Entire home/apt   1000               1                  0   \n",
       "800720     Entire home/apt   1000               3                  0   \n",
       "11339193   Entire home/apt   1000               3                  0   \n",
       "11385753       Shared room   1000               1                  0   \n",
       "11483903   Entire home/apt   1000               1                  0   \n",
       "2675913    Entire home/apt   1000               1                  0   \n",
       "11540028   Entire home/apt   1000               3                  0   \n",
       "11708656   Entire home/apt   1000               1                  0   \n",
       "11732741   Entire home/apt   1000               1                  0   \n",
       "3655542    Entire home/apt   1000               4                  0   \n",
       "1331180    Entire home/apt   1000               2                  0   \n",
       "9854191    Entire home/apt   1000               3                 38   \n",
       "22506665   Entire home/apt   1000               1                  0   \n",
       "19924780   Entire home/apt   1000               2                 95   \n",
       "724633     Entire home/apt   1000               2                  6   \n",
       "25870353   Entire home/apt   1000               7                  0   \n",
       "836168     Entire home/apt   1000              30                 27   \n",
       "9739435    Entire home/apt   1000               2                  0   \n",
       "21052756   Entire home/apt   1000               5                  1   \n",
       "1342653    Entire home/apt   1000               4                 10   \n",
       "64632152   Entire home/apt   1000               4                 19   \n",
       "69852641   Entire home/apt   1000               2                 24   \n",
       "69852641   Entire home/apt   1000               2                 23   \n",
       "70208173      Private room   1000              35                  6   \n",
       "71948176      Private room   1000               1                  0   \n",
       "68890      Entire home/apt   1000               1                 10   \n",
       "39919088   Entire home/apt   1000               2                  0   \n",
       "836168     Entire home/apt   1000              30                 17   \n",
       "8111912    Entire home/apt   1000               1                  1   \n",
       "125320407  Entire home/apt   1000               2                  5   \n",
       "356490         Shared room   1000               1                  0   \n",
       "7050126    Entire home/apt   1000               1                  3   \n",
       "31515758   Entire home/apt   1000               1                  1   \n",
       "65830935      Private room   1000               2                  0   \n",
       "11242618   Entire home/apt   1000               5                  0   \n",
       "72205446   Entire home/apt   1000               3                 10   \n",
       "163366045     Private room   1000              11                  0   \n",
       "11844979   Entire home/apt   1000               1                  0   \n",
       "3201625    Entire home/apt   1000               1                  2   \n",
       "18598201   Entire home/apt   1000               3                 55   \n",
       "183779546  Entire home/apt   1000               1                  9   \n",
       "136454672  Entire home/apt   1000               3                 10   \n",
       "26490270   Entire home/apt   1000               1                  1   \n",
       "1524825    Entire home/apt   1000               7                  0   \n",
       "125320407  Entire home/apt   1000               2                  0   \n",
       "189336520  Entire home/apt   1000               4                 16   \n",
       "222843411  Entire home/apt   1000               3                  0   \n",
       "89407287   Entire home/apt   1000               1                  0   \n",
       "231163395     Private room   1000              30                  0   \n",
       "273174     Entire home/apt   1000               1                  2   \n",
       "10476957   Entire home/apt   1000               2                  8   \n",
       "252545388  Entire home/apt   1000              31                  0   \n",
       "5173736    Entire home/apt   1000               3                  7   \n",
       "262800168  Entire home/apt   1000               2                  6   \n",
       "23732730   Entire home/apt   1000               1                  0   \n",
       "\n",
       "          last_review  reviews_per_month  availability_365  \n",
       "host_id                                                     \n",
       "836168     2015-09-28               0.53               364  \n",
       "273174     2019-06-22               0.36                37  \n",
       "836168     2016-01-27               0.33               364  \n",
       "6414296           NaT               0.00               365  \n",
       "10317189          NaT               0.00                 0  \n",
       "800720            NaT               0.00                 0  \n",
       "11339193          NaT               0.00                 0  \n",
       "11385753          NaT               0.00                 0  \n",
       "11483903          NaT               0.00                 0  \n",
       "2675913           NaT               0.00                 0  \n",
       "11540028          NaT               0.00                 0  \n",
       "11708656          NaT               0.00                 0  \n",
       "11732741          NaT               0.00                 0  \n",
       "3655542           NaT               0.00                 0  \n",
       "1331180           NaT               0.00                 0  \n",
       "9854191    2019-06-09               0.72               270  \n",
       "22506665          NaT               0.00               364  \n",
       "19924780   2018-12-30               1.70               353  \n",
       "724633     2018-03-14               0.25                19  \n",
       "25870353          NaT               0.00               365  \n",
       "836168     2017-05-04               0.57               364  \n",
       "9739435           NaT               0.00               365  \n",
       "21052756   2016-01-03               0.02                 0  \n",
       "1342653    2018-11-26               0.23               326  \n",
       "64632152   2019-05-17               0.51               349  \n",
       "69852641   2019-05-30               0.71               274  \n",
       "69852641   2019-06-09               0.70               240  \n",
       "70208173   2016-06-02               0.16               365  \n",
       "71948176          NaT               0.00                 0  \n",
       "68890      2018-06-14               0.28               365  \n",
       "39919088          NaT               0.00                88  \n",
       "836168     2017-04-16               0.51               365  \n",
       "8111912    2019-04-02               0.31               365  \n",
       "125320407  2018-10-07               0.27               365  \n",
       "356490            NaT               0.00                 0  \n",
       "7050126    2017-07-29               0.12                90  \n",
       "31515758   2018-03-18               0.06                79  \n",
       "65830935          NaT               0.00                 0  \n",
       "11242618          NaT               0.00               364  \n",
       "72205446   2019-06-03               2.07               310  \n",
       "163366045         NaT               0.00                 0  \n",
       "11844979          NaT               0.00               179  \n",
       "3201625    2018-12-18               0.25               365  \n",
       "18598201   2019-07-04               3.50                37  \n",
       "183779546  2019-04-27               0.66                88  \n",
       "136454672  2019-06-08               0.79                84  \n",
       "26490270   2018-10-30               0.12               365  \n",
       "1524825           NaT               0.00               178  \n",
       "125320407         NaT               0.00               365  \n",
       "189336520  2019-06-15               1.97                66  \n",
       "222843411         NaT               0.00               363  \n",
       "89407287          NaT               0.00                 0  \n",
       "231163395         NaT               0.00                90  \n",
       "273174     2019-06-14               0.40                38  \n",
       "10476957   2019-05-12               1.59               273  \n",
       "252545388         NaT               0.00               103  \n",
       "5173736    2019-06-10               3.09               286  \n",
       "262800168  2019-06-30               5.29               231  \n",
       "23732730          NaT               0.00                90  "
      ]
     },
     "execution_count": 28,
     "metadata": {},
     "output_type": "execute_result"
    }
   ],
   "source": [
    "# duomenys, kai kaina lygi maksimaliai kainai\n",
    "df_nyc[df_nyc['price'] == 1000]"
   ]
  },
  {
   "cell_type": "code",
   "execution_count": 29,
   "id": "e169840a",
   "metadata": {
    "scrolled": false
   },
   "outputs": [
    {
     "data": {
      "text/plain": [
       "room_type\n",
       "Entire home/apt    211.81\n",
       "Private room        89.81\n",
       "Shared room         70.25\n",
       "Name: price, dtype: float64"
      ]
     },
     "execution_count": 29,
     "metadata": {},
     "output_type": "execute_result"
    }
   ],
   "source": [
    "# kainų vidurkis pagal būsto tipą\n",
    "mprice_by_room_type = df_nyc.groupby('room_type')['price'].mean()\n",
    "np.round(mprice_by_room_type, 2)"
   ]
  },
  {
   "cell_type": "code",
   "execution_count": 30,
   "id": "4b9fbae7",
   "metadata": {
    "scrolled": true
   },
   "outputs": [
    {
     "data": {
      "text/plain": [
       "room_type\n",
       "Entire home/apt    160.0\n",
       "Private room        70.0\n",
       "Shared room         45.0\n",
       "Name: price, dtype: float64"
      ]
     },
     "execution_count": 30,
     "metadata": {},
     "output_type": "execute_result"
    }
   ],
   "source": [
    "# kainų mediana pagal būsto tipą\n",
    "df_nyc.groupby('room_type')['price'].median()"
   ]
  },
  {
   "cell_type": "code",
   "execution_count": 31,
   "id": "ada70ec7",
   "metadata": {
    "scrolled": false
   },
   "outputs": [
    {
     "data": {
      "image/png": "[encoded data removed]",
      "text/plain": [
       "<Figure size 648x360 with 1 Axes>"
      ]
     },
     "metadata": {
      "needs_background": "light"
     },
     "output_type": "display_data"
    }
   ],
   "source": [
    "# kainų pasiskirstymas pagal kambario tipą.\n",
    "price_max_400 = df_nyc[df_nyc[\"price\"] < 400]\n",
    "fig, ax = plt.subplots(figsize=(9, 5))\n",
    "sns.violinplot(\n",
    "    data=price_max_400,\n",
    "    x=\"room_type\",\n",
    "    y=\"price\",\n",
    "    palette=\"pastel\",\n",
    "    bw=0.2,\n",
    "    cut=1,\n",
    "    linewidth=1,\n",
    ").set_title(\"Price distribution by room type $\")\n",
    "plt.show()"
   ]
  },
  {
   "cell_type": "code",
   "execution_count": 32,
   "id": "1fb453f4",
   "metadata": {},
   "outputs": [],
   "source": [
    "# \"Entire home/apt\" kainos pasiskirstę netolygiausiai ir yra brangesnės.\n",
    "# \"Shared room\" kainų pasiskirstymas tolygiausias, šio tipo būstai yra pigiausi."
   ]
  },
  {
   "cell_type": "code",
   "execution_count": 33,
   "id": "b582d877",
   "metadata": {
    "scrolled": false
   },
   "outputs": [
    {
     "data": {
      "image/png": "[encoded data removed]",
      "text/plain": [
       "<Figure size 648x360 with 1 Axes>"
      ]
     },
     "metadata": {
      "needs_background": "light"
     },
     "output_type": "display_data"
    }
   ],
   "source": [
    "# kainų pasiskirstymas pagal rajonus\n",
    "fig, ax = plt.subplots(figsize=(9, 5))\n",
    "sns.violinplot(\n",
    "    data=price_max_400,\n",
    "    x=\"neighbourhood_group\",\n",
    "    y=\"price\",\n",
    "    palette=\"pastel\",\n",
    "    bw=0.2,\n",
    "    cut=1,\n",
    "    linewidth=1,\n",
    ").set_title(\"Price distribution for each neighbourhood $\")\n",
    "plt.show()"
   ]
  },
  {
   "cell_type": "code",
   "execution_count": 34,
   "id": "d4968a0a",
   "metadata": {},
   "outputs": [],
   "source": [
    "# Manhattan kainos pasiskirstę netolygiausiai ir yra brangiausios. Vidurkis apie 140$ kainą.\n",
    "# Qeens ir Staten Island kainų pasiskirstymas gana panašus. \n",
    "# Bronx būsto nuomos kainos pigiausios."
   ]
  },
  {
   "cell_type": "code",
   "execution_count": 35,
   "id": "6527842a",
   "metadata": {
    "scrolled": true
   },
   "outputs": [
    {
     "data": {
      "image/png": "[encoded data removed]",
      "text/plain": [
       "<Figure size 576x360 with 1 Axes>"
      ]
     },
     "metadata": {
      "needs_background": "light"
     },
     "output_type": "display_data"
    }
   ],
   "source": [
    "# nuomojamų objektų pasiskirstymas pagal rajoną bei užimtumą_365\n",
    "fig, ax = plt.subplots(figsize=(8, 5))\n",
    "sns.boxplot(\n",
    "    x=\"availability_365\",\n",
    "    y=\"neighbourhood_group\",\n",
    "    data=df_nyc,\n",
    "    whis=[0, 100],\n",
    "    width=0.6,\n",
    "    palette=\"pastel\",\n",
    ").set_title(\n",
    "    \"Accommodation distribution for neighbourhood group and availability per year\")\n",
    "sns.set_palette(\"Set3\")\n",
    "plt.show()"
   ]
  },
  {
   "cell_type": "code",
   "execution_count": 36,
   "id": "1215a9e4",
   "metadata": {},
   "outputs": [],
   "source": [
    "# prieinamumas didžiausias Bronx bei Staten Island. Mažesnis Brooklyn nei Manhattan."
   ]
  },
  {
   "cell_type": "code",
   "execution_count": 37,
   "id": "caa69b77",
   "metadata": {},
   "outputs": [
    {
     "data": {
      "text/plain": [
       "neighbourhood_group\n",
       "Manhattan    8.58\n",
       "Name: minimum_nights, dtype: float64"
      ]
     },
     "execution_count": 37,
     "metadata": {},
     "output_type": "execute_result"
    }
   ],
   "source": [
    "# išskiriu rajoną, kuriame apsistojama daugiausiai naktų bei kiek naktų.\n",
    "maximum_nights_neigh = round(\n",
    "    df_nyc.groupby(\"neighbourhood_group\")[\"minimum_nights\"]\n",
    "    .agg(\"mean\")\n",
    "    .nlargest(n=1)\n",
    "    .sort_values(ascending=False),\n",
    "    2,\n",
    ")\n",
    "maximum_nights_neigh"
   ]
  },
  {
   "cell_type": "markdown",
   "id": "027a65f0",
   "metadata": {},
   "source": [
    "### 3.3. Analizė pagal kaimynystes"
   ]
  },
  {
   "cell_type": "code",
   "execution_count": 38,
   "id": "dc70f175",
   "metadata": {},
   "outputs": [
    {
     "data": {
      "text/plain": [
       "neighbourhood\n",
       "Williamsburg          3919\n",
       "Bedford-Stuyvesant    3710\n",
       "Harlem                2658\n",
       "Bushwick              2462\n",
       "Upper West Side       1971\n",
       "                      ... \n",
       "Richmondtown             1\n",
       "Willowbrook              1\n",
       "Fort Wadsworth           1\n",
       "New Dorp                 1\n",
       "Woodrow                  1\n",
       "Name: neighbourhood, Length: 221, dtype: int64"
      ]
     },
     "execution_count": 38,
     "metadata": {},
     "output_type": "execute_result"
    }
   ],
   "source": [
    "# būstų kiekis pagal kaimynystes. Įvertinu, ar daug yra kaimynysčių.\n",
    "df_nyc.groupby(\"neighbourhood\")[\"neighbourhood\"].count().sort_values(ascending=False)\n",
    "\n"
   ]
  },
  {
   "cell_type": "code",
   "execution_count": 39,
   "id": "24dc146f",
   "metadata": {},
   "outputs": [
    {
     "data": {
      "image/png": "[encoded data removed]",
      "text/plain": [
       "<Figure size 576x432 with 1 Axes>"
      ]
     },
     "metadata": {
      "needs_background": "light"
     },
     "output_type": "display_data"
    }
   ],
   "source": [
    "# TOP10 populiariausių kaimynysčių\n",
    "fig, ax = plt.subplots(figsize=(8, 6))\n",
    "sns.countplot(\n",
    "    y=\"neighbourhood\",\n",
    "    data=df_nyc,\n",
    "    palette=\"pastel\",\n",
    "    order=df_nyc[\"neighbourhood\"].value_counts().index[:10],\n",
    ").set_title(\"The 10 Most Popular Neighbourhood\")\n",
    "plt.show()\n",
    "\n",
    "#sns.countplot(data=df_neigh10, x=\"neighbourhood_group\", palette='pastel', \n",
    "#).set(title='Properties by room type and neigbourhood group')\n",
    "#plt.show()\n",
    "#ax1.axhline(0, color=\"k\", clip_on=False)\n",
    "#ax1.set_ylabel(\"Properties\")"
   ]
  },
  {
   "cell_type": "code",
   "execution_count": 40,
   "id": "0cb16c12",
   "metadata": {
    "scrolled": true
   },
   "outputs": [
    {
     "data": {
      "text/plain": [
       "neighbourhood\n",
       "Fort Wadsworth        800.0\n",
       "Woodrow               700.0\n",
       "Tribeca               295.0\n",
       "Neponsit              274.0\n",
       "NoHo                  250.0\n",
       "Willowbrook           249.0\n",
       "Flatiron District     225.0\n",
       "Midtown               210.0\n",
       "Financial District    200.0\n",
       "West Village          200.0\n",
       "Name: price, dtype: float64"
      ]
     },
     "execution_count": 40,
     "metadata": {},
     "output_type": "execute_result"
    }
   ],
   "source": [
    "# Top10 brangiausių kaimynyčių pagal vidutinę kainą (naudoju kainos medianą).\n",
    "top_10_neighbourhoods = (\n",
    "    df_nyc.groupby(\"neighbourhood\")[\"price\"]\n",
    "    .agg(\"median\")\n",
    "    .nlargest(n=10)\n",
    "    .sort_values(ascending=False)\n",
    ")\n",
    "top_10_neighbourhoods"
   ]
  },
  {
   "cell_type": "code",
   "execution_count": 41,
   "id": "9f19e4f6",
   "metadata": {
    "scrolled": false
   },
   "outputs": [
    {
     "data": {
      "text/plain": [
       "Text(0.5, 0, 'price $')"
      ]
     },
     "execution_count": 41,
     "metadata": {},
     "output_type": "execute_result"
    },
    {
     "data": {
      "image/png": "[encoded data removed]",
      "text/plain": [
       "<Figure size 576x360 with 1 Axes>"
      ]
     },
     "metadata": {
      "needs_background": "light"
     },
     "output_type": "display_data"
    }
   ],
   "source": [
    "# grafike pateikiu Top10 brangiausių kaimynyčių pagal vidutinę kainą (naudoju kainos medianą).\n",
    "top_10_neighbourhoods.plot(\n",
    "    kind=\"barh\",\n",
    "    title=\"Top 10 Neighbourhoods Median Price by Neighbourhood\",\n",
    "    color=\"lightblue\",\n",
    "    figsize=(8, 5),\n",
    ")\n",
    "plt.xlabel(\"price $\")"
   ]
  },
  {
   "cell_type": "code",
   "execution_count": 42,
   "id": "67df2043",
   "metadata": {},
   "outputs": [],
   "source": [
    "# Brangiausias būstas nuomai yra Fort Wadsworth bei Woodrow kaimynystėse."
   ]
  },
  {
   "cell_type": "code",
   "execution_count": 43,
   "id": "3c21cab8",
   "metadata": {},
   "outputs": [
    {
     "data": {
      "text/plain": [
       "neighbourhood\n",
       "Concord           34.5\n",
       "Castle Hill       39.0\n",
       "Corona            40.0\n",
       "Hunts Point       40.0\n",
       "New Dorp Beach    40.0\n",
       "Tremont           41.0\n",
       "Bull's Head       45.0\n",
       "Mount Eden        45.5\n",
       "Soundview         49.0\n",
       "Whitestone        49.0\n",
       "Name: price, dtype: float64"
      ]
     },
     "execution_count": 43,
     "metadata": {},
     "output_type": "execute_result"
    }
   ],
   "source": [
    "# 10 kaimynysčių, kuriose yra žemiausia vidutinė kaina (naudoju kainos medianą).\n",
    "bottom_10_neighborhoods = (\n",
    "    df_nyc.groupby(\"neighbourhood\")[\"price\"]\n",
    "    .agg(\"median\")\n",
    "    .nsmallest(n=10)\n",
    "    .sort_values(ascending=True)\n",
    ")\n",
    "bottom_10_neighborhoods"
   ]
  },
  {
   "cell_type": "code",
   "execution_count": 44,
   "id": "adca7447",
   "metadata": {
    "scrolled": true
   },
   "outputs": [
    {
     "data": {
      "text/plain": [
       "Text(0.5, 0, 'price $')"
      ]
     },
     "execution_count": 44,
     "metadata": {},
     "output_type": "execute_result"
    },
    {
     "data": {
      "image/png": "[encoded data removed]",
      "text/plain": [
       "<Figure size 576x360 with 1 Axes>"
      ]
     },
     "metadata": {
      "needs_background": "light"
     },
     "output_type": "display_data"
    }
   ],
   "source": [
    "# pigiausios kaimynystės (Bottom10) pagal vidutinę kainą\n",
    "bottom_10_neighborhoods.plot(\n",
    "    kind=\"barh\",\n",
    "    title=\"Bottom 10 Neighbourhoods Median Price by Neighbourhood\",\n",
    "    color=\"lightblue\",\n",
    "    figsize=(8, 5),\n",
    ")\n",
    "plt.xlabel(\"price $\")"
   ]
  },
  {
   "cell_type": "code",
   "execution_count": 45,
   "id": "3886bc1b",
   "metadata": {},
   "outputs": [],
   "source": [
    "# pigiausias būstas nuomai Concord bei Castle Hill kaimynystėse."
   ]
  },
  {
   "cell_type": "code",
   "execution_count": 46,
   "id": "b34a7ea5",
   "metadata": {
    "scrolled": true
   },
   "outputs": [
    {
     "data": {
      "text/plain": [
       "neighbourhood\n",
       "Spuyten Duyvil       48.25\n",
       "North Riverdale      41.40\n",
       "Battery Park City    30.33\n",
       "Olinville            23.50\n",
       "Vinegar Hill         18.35\n",
       "Name: minimum_nights, dtype: float64"
      ]
     },
     "execution_count": 46,
     "metadata": {},
     "output_type": "execute_result"
    }
   ],
   "source": [
    "# išskiriu būstus, kuriuose apsistojama daugiausiai naktų.\n",
    "maximum_nights = round(\n",
    "    df_nyc.groupby(\"neighbourhood\")[\"minimum_nights\"]\n",
    "    .agg(\"mean\")\n",
    "    .nlargest(n=5)\n",
    "    .sort_values(ascending=False),\n",
    "    2,\n",
    ")\n",
    "maximum_nights"
   ]
  },
  {
   "cell_type": "code",
   "execution_count": 47,
   "id": "7086bb9a",
   "metadata": {},
   "outputs": [
    {
     "data": {
      "text/plain": [
       "neighbourhood\n",
       "Woodlawn           1.45\n",
       "East Morrisania    1.33\n",
       "Oakwood            1.20\n",
       "Breezy Point       1.00\n",
       "New Dorp           1.00\n",
       "Name: minimum_nights, dtype: float64"
      ]
     },
     "execution_count": 47,
     "metadata": {},
     "output_type": "execute_result"
    }
   ],
   "source": [
    "# išskiriu kaimynystes, kuriose apsistojama mažiausiai naktų.\n",
    "minimum_nights = round(\n",
    "    df_nyc.groupby(\"neighbourhood\")[\"minimum_nights\"]\n",
    "    .agg(\"mean\")\n",
    "    .nsmallest(n=5)\n",
    "    .sort_values(ascending=False),\n",
    "    2,\n",
    ")\n",
    "minimum_nights"
   ]
  },
  {
   "cell_type": "markdown",
   "id": "4910e9d8",
   "metadata": {},
   "source": [
    "### 3.4. Duomenų tarpusavio ryšiai"
   ]
  },
  {
   "cell_type": "code",
   "execution_count": 48,
   "id": "fb6207df",
   "metadata": {},
   "outputs": [
    {
     "data": {
      "text/plain": [
       "<AxesSubplot:>"
      ]
     },
     "execution_count": 48,
     "metadata": {},
     "output_type": "execute_result"
    },
    {
     "data": {
      "image/png": "[encoded data removed]",
      "text/plain": [
       "<Figure size 720x360 with 2 Axes>"
      ]
     },
     "metadata": {},
     "output_type": "display_data"
    }
   ],
   "source": [
    "# patikrinsiu kintamųjų tarpusavio ryšius, panaudodama koreliacijos matricą.\n",
    "sns.set(font_scale=1.2)\n",
    "plt.figure(figsize=(10, 5))\n",
    "sns.heatmap(df_nyc.corr(), annot=True, cmap=\"Greens\")"
   ]
  },
  {
   "cell_type": "code",
   "execution_count": 49,
   "id": "540f3352",
   "metadata": {},
   "outputs": [],
   "source": [
    "#Nėra stiprių korealiacijos ryšių.\n",
    "#Matoma koreliacija tarp availability ir minimum nights, reviews.\n",
    "#no_of_reviews ir reviews_per_month pateikia panašią korealiaciją su kitais duomenimis."
   ]
  },
  {
   "cell_type": "code",
   "execution_count": 50,
   "id": "1b846a33",
   "metadata": {
    "scrolled": true
   },
   "outputs": [
    {
     "data": {
      "image/png": "[encoded data removed]",
      "text/plain": [
       "<Figure size 576x360 with 1 Axes>"
      ]
     },
     "metadata": {},
     "output_type": "display_data"
    }
   ],
   "source": [
    "# įvertinu ryšį tarp kainos bei apsistotų naktų trukmės, taip pat duomenis išskiriu pagal būsto tipą.\n",
    "fig, ax = plt.subplots(figsize=(8, 5))\n",
    "sns.scatterplot(\n",
    "    data=df_nyc, x=\"minimum_nights\", y=\"price\", hue=\"room_type\", palette=\"colorblind\"\n",
    ").set_title(\"Relationship between minimum stayed nights and price\")\n",
    "plt.show()\n"
   ]
  },
  {
   "cell_type": "code",
   "execution_count": 51,
   "id": "e77a4b96",
   "metadata": {},
   "outputs": [],
   "source": [
    "# Iš grafiko matyti neigiamas ryšys, t.y.kuo didesnė kaina, tuo trumpesnė apsistotų naktų trukmė."
   ]
  },
  {
   "cell_type": "code",
   "execution_count": 52,
   "id": "5fd81624",
   "metadata": {
    "scrolled": true
   },
   "outputs": [
    {
     "data": {
      "text/plain": [
       "mean      7.029887\n",
       "median    3.000000\n",
       "Name: minimum_nights, dtype: float64"
      ]
     },
     "execution_count": 52,
     "metadata": {},
     "output_type": "execute_result"
    }
   ],
   "source": [
    "# įdomu, kiek vidutiniškai naktų buvo apsistoję svečiai. Taip pat įdomu, kiek naktų dažniausiai apsistoja.\n",
    "stayed_nights = df_nyc['minimum_nights'].agg(['mean', 'median'])\n",
    "stayed_nights"
   ]
  },
  {
   "cell_type": "code",
   "execution_count": 77,
   "id": "f9627369",
   "metadata": {
    "scrolled": true
   },
   "outputs": [
    {
     "ename": "AttributeError",
     "evalue": "'FacetGrid' object has no attribute 'set_title'",
     "output_type": "error",
     "traceback": [
      "\u001b[1;31m---------------------------------------------------------------------------\u001b[0m",
      "\u001b[1;31mAttributeError\u001b[0m                            Traceback (most recent call last)",
      "Input \u001b[1;32mIn [77]\u001b[0m, in \u001b[0;36m<cell line: 3>\u001b[1;34m()\u001b[0m\n\u001b[0;32m      1\u001b[0m \u001b[38;5;66;03m# įvertinu ryšį tarp kainos bei gautų komentarų, taip pat duomenis išskiriu pagal būsto tipą.\u001b[39;00m\n\u001b[0;32m      2\u001b[0m fig, ax \u001b[38;5;241m=\u001b[39m plt\u001b[38;5;241m.\u001b[39msubplots(figsize\u001b[38;5;241m=\u001b[39m(\u001b[38;5;241m8\u001b[39m, \u001b[38;5;241m5\u001b[39m))\n\u001b[1;32m----> 3\u001b[0m \u001b[43msns\u001b[49m\u001b[38;5;241;43m.\u001b[39;49m\u001b[43mrelplot\u001b[49m\u001b[43m(\u001b[49m\n\u001b[0;32m      4\u001b[0m \u001b[43m    \u001b[49m\u001b[43mdata\u001b[49m\u001b[38;5;241;43m=\u001b[39;49m\u001b[43mdf_nyc\u001b[49m\u001b[43m,\u001b[49m\u001b[43m \u001b[49m\u001b[43mx\u001b[49m\u001b[38;5;241;43m=\u001b[39;49m\u001b[38;5;124;43m\"\u001b[39;49m\u001b[38;5;124;43mnumber_of_reviews\u001b[39;49m\u001b[38;5;124;43m\"\u001b[39;49m\u001b[43m,\u001b[49m\u001b[43m \u001b[49m\u001b[43my\u001b[49m\u001b[38;5;241;43m=\u001b[39;49m\u001b[38;5;124;43m\"\u001b[39;49m\u001b[38;5;124;43mprice\u001b[39;49m\u001b[38;5;124;43m\"\u001b[39;49m\u001b[43m,\u001b[49m\u001b[43m \u001b[49m\u001b[43mhue\u001b[49m\u001b[38;5;241;43m=\u001b[39;49m\u001b[38;5;124;43m\"\u001b[39;49m\u001b[38;5;124;43mroom_type\u001b[39;49m\u001b[38;5;124;43m\"\u001b[39;49m\u001b[43m,\u001b[49m\u001b[43m \u001b[49m\u001b[43mpalette\u001b[49m\u001b[38;5;241;43m=\u001b[39;49m\u001b[38;5;124;43m\"\u001b[39;49m\u001b[38;5;124;43mcolorblind\u001b[39;49m\u001b[38;5;124;43m\"\u001b[39;49m\n\u001b[0;32m      5\u001b[0m \u001b[43m)\u001b[49m\u001b[38;5;241;43m.\u001b[39;49m\u001b[43mset_title\u001b[49m(\u001b[38;5;124m\"\u001b[39m\u001b[38;5;124mRelationship between price and number of comments\u001b[39m\u001b[38;5;124m\"\u001b[39m)\n\u001b[0;32m      6\u001b[0m plt\u001b[38;5;241m.\u001b[39mshow()\n",
      "\u001b[1;31mAttributeError\u001b[0m: 'FacetGrid' object has no attribute 'set_title'"
     ]
    },
    {
     "data": {
      "image/png": "[encoded data removed]",
      "text/plain": [
       "<Figure size 576x360 with 1 Axes>"
      ]
     },
     "metadata": {},
     "output_type": "display_data"
    },
    {
     "data": {
      "image/png": "[encoded data removed]",
      "text/plain": [
       "<Figure size 501.02x360 with 1 Axes>"
      ]
     },
     "metadata": {},
     "output_type": "display_data"
    }
   ],
   "source": [
    "# įvertinu ryšį tarp kainos bei gautų komentarų, taip pat duomenis išskiriu pagal būsto tipą.\n",
    "fig, ax = plt.subplots(figsize=(8, 5))\n",
    "sns.relplot(\n",
    "    data=df_nyc, x=\"number_of_reviews\", y=\"price\", hue=\"room_type\", palette=\"colorblind\"\n",
    ").set_title(\"Relationship between price and number of comments\")\n",
    "plt.show()"
   ]
  },
  {
   "cell_type": "code",
   "execution_count": 54,
   "id": "acd420f2",
   "metadata": {},
   "outputs": [],
   "source": [
    "# Iš grafiko matyti teigiamas ryšys, t.y.kuo daugiau komentarų, tuo mažesnė kaina. \n",
    "# Daugiausiai komentarų \"Entire home/apt\" tipo."
   ]
  },
  {
   "cell_type": "markdown",
   "id": "8828f371",
   "metadata": {},
   "source": [
    "## 3.5 Analizė pagal laikotarpį"
   ]
  },
  {
   "cell_type": "code",
   "execution_count": 55,
   "id": "65f128f3",
   "metadata": {
    "scrolled": true
   },
   "outputs": [
    {
     "data": {
      "text/plain": [
       "year\n",
       "2018.0    6048\n",
       "2017.0    3204\n",
       "2016.0    2707\n",
       "2015.0    1393\n",
       "2014.0     199\n",
       "2013.0      48\n",
       "2012.0      25\n",
       "2011.0       7\n",
       "Name: year, dtype: int64"
      ]
     },
     "execution_count": 55,
     "metadata": {},
     "output_type": "execute_result"
    }
   ],
   "source": [
    "# pagal turimus komentarus bei jų laiką, galime nustatyti kada svečiai dažniausiai nuomojasi būstą.\n",
    "# išskirstau metus ir mėnesius į atskirus stulpelius, kad juos galėčiau naudoti analizei.\n",
    "# išskiriu kiek last_review buvo kiekvienais metais.\n",
    "df_nyc['year'] = df_nyc['last_review'].dt.year\n",
    "df_nyc['month'] = df_nyc['last_review'].dt.month\n",
    "df_nyc = df_nyc.loc[~((df_nyc['year'] == 2019))]\n",
    "#df_nyc1 = df_nyc1.dropna()\n",
    "df_nyc1 = df_nyc.groupby('year')['year'].count().sort_values(ascending=False)\n",
    "df_nyc1"
   ]
  },
  {
   "cell_type": "code",
   "execution_count": 56,
   "id": "10367d75",
   "metadata": {
    "scrolled": true
   },
   "outputs": [
    {
     "data": {
      "text/plain": [
       "Text(0.5, 1.0, 'AirBnb properties Each Month')"
      ]
     },
     "execution_count": 56,
     "metadata": {},
     "output_type": "execute_result"
    },
    {
     "data": {
      "image/png": "[encoded data removed]",
      "text/plain": [
       "<Figure size 864x288 with 1 Axes>"
      ]
     },
     "metadata": {},
     "output_type": "display_data"
    }
   ],
   "source": [
    "# kuriais mėnesiais daugiausiai nuomojama būstų per visą laikotarpį\n",
    "fig_dims = (12, 4)\n",
    "fig, ax = plt.subplots(figsize=fig_dims)\n",
    "sns.countplot(\n",
    "    x=\"month\", data=df_nyc, order=df_nyc[\"month\"].value_counts().index, palette=\"pastel\"\n",
    ")\n",
    "plt.title(\"AirBnb properties Each Month\", fontsize=20)\n"
   ]
  },
  {
   "cell_type": "code",
   "execution_count": null,
   "id": "ae781f7b",
   "metadata": {},
   "outputs": [],
   "source": [
    "# Aktyviausi mėnesiai nuomai yra: gruodis, rugpjūtis bei spalis. Mažiausias svečių aktyvumas vasario ir kovo mėnesį."
   ]
  },
  {
   "cell_type": "code",
   "execution_count": 57,
   "id": "e065370b",
   "metadata": {},
   "outputs": [
    {
     "data": {
      "text/html": [
       "<div>\n",
       "<style scoped>\n",
       "    .dataframe tbody tr th:only-of-type {\n",
       "        vertical-align: middle;\n",
       "    }\n",
       "\n",
       "    .dataframe tbody tr th {\n",
       "        vertical-align: top;\n",
       "    }\n",
       "\n",
       "    .dataframe thead th {\n",
       "        text-align: right;\n",
       "    }\n",
       "</style>\n",
       "<table border=\"1\" class=\"dataframe\">\n",
       "  <thead>\n",
       "    <tr style=\"text-align: right;\">\n",
       "      <th></th>\n",
       "      <th>name</th>\n",
       "      <th>neighbourhood_group</th>\n",
       "      <th>neighbourhood</th>\n",
       "      <th>latitude</th>\n",
       "      <th>longitude</th>\n",
       "      <th>room_type</th>\n",
       "      <th>price</th>\n",
       "      <th>minimum_nights</th>\n",
       "      <th>number_of_reviews</th>\n",
       "      <th>last_review</th>\n",
       "      <th>reviews_per_month</th>\n",
       "      <th>availability_365</th>\n",
       "      <th>year</th>\n",
       "      <th>month</th>\n",
       "    </tr>\n",
       "    <tr>\n",
       "      <th>host_id</th>\n",
       "      <th></th>\n",
       "      <th></th>\n",
       "      <th></th>\n",
       "      <th></th>\n",
       "      <th></th>\n",
       "      <th></th>\n",
       "      <th></th>\n",
       "      <th></th>\n",
       "      <th></th>\n",
       "      <th></th>\n",
       "      <th></th>\n",
       "      <th></th>\n",
       "      <th></th>\n",
       "      <th></th>\n",
       "    </tr>\n",
       "  </thead>\n",
       "  <tbody>\n",
       "    <tr>\n",
       "      <th>2787</th>\n",
       "      <td>Clean &amp; quiet apt home by the park</td>\n",
       "      <td>Brooklyn</td>\n",
       "      <td>Kensington</td>\n",
       "      <td>40.64749</td>\n",
       "      <td>-73.97237</td>\n",
       "      <td>Private room</td>\n",
       "      <td>149</td>\n",
       "      <td>1</td>\n",
       "      <td>9</td>\n",
       "      <td>2018-10-19</td>\n",
       "      <td>0.21</td>\n",
       "      <td>365</td>\n",
       "      <td>2018.0</td>\n",
       "      <td>10.0</td>\n",
       "    </tr>\n",
       "    <tr>\n",
       "      <th>7192</th>\n",
       "      <td>Entire Apt: Spacious Studio/Loft by central park</td>\n",
       "      <td>Manhattan</td>\n",
       "      <td>East Harlem</td>\n",
       "      <td>40.79851</td>\n",
       "      <td>-73.94399</td>\n",
       "      <td>Entire home/apt</td>\n",
       "      <td>80</td>\n",
       "      <td>10</td>\n",
       "      <td>9</td>\n",
       "      <td>2018-11-19</td>\n",
       "      <td>0.10</td>\n",
       "      <td>0</td>\n",
       "      <td>2018.0</td>\n",
       "      <td>11.0</td>\n",
       "    </tr>\n",
       "  </tbody>\n",
       "</table>\n",
       "</div>"
      ],
      "text/plain": [
       "                                                     name neighbourhood_group  \\\n",
       "host_id                                                                         \n",
       "2787                   Clean & quiet apt home by the park            Brooklyn   \n",
       "7192     Entire Apt: Spacious Studio/Loft by central park           Manhattan   \n",
       "\n",
       "        neighbourhood  latitude  longitude        room_type  price  \\\n",
       "host_id                                                              \n",
       "2787       Kensington  40.64749  -73.97237     Private room    149   \n",
       "7192      East Harlem  40.79851  -73.94399  Entire home/apt     80   \n",
       "\n",
       "         minimum_nights  number_of_reviews last_review  reviews_per_month  \\\n",
       "host_id                                                                     \n",
       "2787                  1                  9  2018-10-19               0.21   \n",
       "7192                 10                  9  2018-11-19               0.10   \n",
       "\n",
       "         availability_365    year  month  \n",
       "host_id                                   \n",
       "2787                  365  2018.0   10.0  \n",
       "7192                    0  2018.0   11.0  "
      ]
     },
     "execution_count": 57,
     "metadata": {},
     "output_type": "execute_result"
    }
   ],
   "source": [
    "# noriu įvertinti metų sezoniškumą, pasirenku 2018 metus, kadangi, jie paskutiniai metai, kur yra visų metų info.\n",
    "df_nyc3 = df_nyc[df_nyc['year'] == 2018]\n",
    "df_nyc3 = df_nyc3.dropna()\n",
    "df_nyc3.head(2)"
   ]
  },
  {
   "cell_type": "code",
   "execution_count": 58,
   "id": "ab3761e7",
   "metadata": {
    "scrolled": true
   },
   "outputs": [
    {
     "data": {
      "text/plain": [
       "month\n",
       "12.0    946\n",
       "10.0    714\n",
       "8.0     687\n",
       "9.0     635\n",
       "11.0    560\n",
       "1.0     552\n",
       "7.0     506\n",
       "5.0     401\n",
       "6.0     382\n",
       "4.0     313\n",
       "3.0     209\n",
       "2.0     142\n",
       "Name: month, dtype: int64"
      ]
     },
     "execution_count": 58,
     "metadata": {},
     "output_type": "execute_result"
    }
   ],
   "source": [
    "# nuomos pagal mėnesius\n",
    "df_nyc4 = df_nyc3.groupby('month')['month'].count().sort_values(ascending=False)\n",
    "df_nyc4"
   ]
  },
  {
   "cell_type": "code",
   "execution_count": 75,
   "id": "8abf8dd6",
   "metadata": {
    "scrolled": true
   },
   "outputs": [
    {
     "data": {
      "image/png": "[encoded data removed]",
      "text/plain": [
       "<Figure size 576x360 with 1 Axes>"
      ]
     },
     "metadata": {},
     "output_type": "display_data"
    }
   ],
   "source": [
    "fig, ax = plt.subplots(figsize=(8, 5))\n",
    "gr14 = sns.lineplot(data=df_nyc4, color=\"green\").set_title(\"AirBnb by 2018\")"
   ]
  },
  {
   "cell_type": "code",
   "execution_count": 60,
   "id": "dc28f9e0",
   "metadata": {},
   "outputs": [],
   "source": [
    "# iš grafiko matyti, jog mažiausiai būstų nuomojama vasario mėn.,daugiausiai - gruodžio. \n",
    "# Tam įtakos turi šventinis laikotarpis."
   ]
  },
  {
   "cell_type": "markdown",
   "id": "bedf8427",
   "metadata": {},
   "source": [
    "### 4.6. Grafikas AirBnB pagal vietovę/ rajonus"
   ]
  },
  {
   "cell_type": "code",
   "execution_count": 61,
   "id": "8b2c5d98",
   "metadata": {
    "scrolled": true
   },
   "outputs": [
    {
     "name": "stderr",
     "output_type": "stream",
     "text": [
      "C:\\Users\\sandr\\anaconda3\\lib\\site-packages\\seaborn\\_decorators.py:36: FutureWarning: Pass the following variables as keyword args: x, y. From version 0.12, the only valid positional argument will be `data`, and passing other arguments without an explicit keyword will result in an error or misinterpretation.\n",
      "  warnings.warn(\n"
     ]
    },
    {
     "data": {
      "text/plain": [
       "<AxesSubplot:xlabel='longitude', ylabel='latitude'>"
      ]
     },
     "execution_count": 61,
     "metadata": {},
     "output_type": "execute_result"
    },
    {
     "data": {
      "image/png": "[encoded data removed]",
      "text/plain": [
       "<Figure size 504x432 with 1 Axes>"
      ]
     },
     "metadata": {},
     "output_type": "display_data"
    }
   ],
   "source": [
    "plt.figure(figsize=(7, 6))\n",
    "sns.scatterplot(\"longitude\", \"latitude\",\n",
    "                hue=df_nyc[\"neighbourhood_group\"],\n",
    "                data=df_nyc)"
   ]
  },
  {
   "cell_type": "code",
   "execution_count": 62,
   "id": "84efb5f2",
   "metadata": {},
   "outputs": [
    {
     "data": {
      "text/plain": [
       "'Hillside Hotel'"
      ]
     },
     "execution_count": 62,
     "metadata": {},
     "output_type": "execute_result"
    }
   ],
   "source": [
    "# nustatau, kuris AirBnb objektas yra populiariausias per nagrinėjamą laikotarpį\n",
    "df_nyc.value_counts('name').idxmax()"
   ]
  },
  {
   "cell_type": "code",
   "execution_count": 63,
   "id": "7cd41786",
   "metadata": {},
   "outputs": [
    {
     "data": {
      "text/html": [
       "<div>\n",
       "<style scoped>\n",
       "    .dataframe tbody tr th:only-of-type {\n",
       "        vertical-align: middle;\n",
       "    }\n",
       "\n",
       "    .dataframe tbody tr th {\n",
       "        vertical-align: top;\n",
       "    }\n",
       "\n",
       "    .dataframe thead th {\n",
       "        text-align: right;\n",
       "    }\n",
       "</style>\n",
       "<table border=\"1\" class=\"dataframe\">\n",
       "  <thead>\n",
       "    <tr style=\"text-align: right;\">\n",
       "      <th></th>\n",
       "      <th>name</th>\n",
       "      <th>neighbourhood_group</th>\n",
       "      <th>neighbourhood</th>\n",
       "      <th>latitude</th>\n",
       "      <th>longitude</th>\n",
       "      <th>room_type</th>\n",
       "      <th>price</th>\n",
       "      <th>minimum_nights</th>\n",
       "      <th>number_of_reviews</th>\n",
       "      <th>last_review</th>\n",
       "      <th>reviews_per_month</th>\n",
       "      <th>availability_365</th>\n",
       "      <th>year</th>\n",
       "      <th>month</th>\n",
       "    </tr>\n",
       "    <tr>\n",
       "      <th>host_id</th>\n",
       "      <th></th>\n",
       "      <th></th>\n",
       "      <th></th>\n",
       "      <th></th>\n",
       "      <th></th>\n",
       "      <th></th>\n",
       "      <th></th>\n",
       "      <th></th>\n",
       "      <th></th>\n",
       "      <th></th>\n",
       "      <th></th>\n",
       "      <th></th>\n",
       "      <th></th>\n",
       "      <th></th>\n",
       "    </tr>\n",
       "  </thead>\n",
       "  <tbody>\n",
       "    <tr>\n",
       "      <th>134184451</th>\n",
       "      <td>Hillside Hotel</td>\n",
       "      <td>Queens</td>\n",
       "      <td>Briarwood</td>\n",
       "      <td>40.70454</td>\n",
       "      <td>-73.81549</td>\n",
       "      <td>Private room</td>\n",
       "      <td>93</td>\n",
       "      <td>1</td>\n",
       "      <td>2</td>\n",
       "      <td>2017-07-23</td>\n",
       "      <td>0.08</td>\n",
       "      <td>90</td>\n",
       "      <td>2017.0</td>\n",
       "      <td>7.0</td>\n",
       "    </tr>\n",
       "  </tbody>\n",
       "</table>\n",
       "</div>"
      ],
      "text/plain": [
       "                     name neighbourhood_group neighbourhood  latitude  \\\n",
       "host_id                                                                 \n",
       "134184451  Hillside Hotel              Queens     Briarwood  40.70454   \n",
       "\n",
       "           longitude     room_type  price  minimum_nights  number_of_reviews  \\\n",
       "host_id                                                                        \n",
       "134184451  -73.81549  Private room     93               1                  2   \n",
       "\n",
       "          last_review  reviews_per_month  availability_365    year  month  \n",
       "host_id                                                                    \n",
       "134184451  2017-07-23               0.08                90  2017.0    7.0  "
      ]
     },
     "execution_count": 63,
     "metadata": {},
     "output_type": "execute_result"
    }
   ],
   "source": [
    "# detaliau patikrinu, koks tai objektas\n",
    "df_nyc[df_nyc['name'] == 'Hillside Hotel'][:1]"
   ]
  },
  {
   "cell_type": "code",
   "execution_count": 64,
   "id": "fd7ec36f",
   "metadata": {
    "scrolled": true
   },
   "outputs": [
    {
     "name": "stdout",
     "output_type": "stream",
     "text": [
      "['Clean', '&', 'quiet', 'apt', 'home', 'by', 'the', 'park', 'THE', 'VILLAGE', 'OF', 'HARLEM....NEW', 'YORK', '!', 'Entire', 'Apt:', 'Spacious', 'Studio/Loft', 'by', 'central']\n"
     ]
    }
   ],
   "source": [
    "# nustatau, TOP20 žodžius, kurie būstų pavadinimuose naudojami dažniausiai\n",
    "\n",
    "names = df_nyc[\"name\"]\n",
    "name_words = []\n",
    "for name in names:\n",
    "    name = str(name).split()\n",
    "    for word in name:\n",
    "        name_words.append(word)\n",
    "print(name_words[:20])\n"
   ]
  },
  {
   "cell_type": "code",
   "execution_count": 65,
   "id": "1dd70d36",
   "metadata": {},
   "outputs": [],
   "source": [
    "# sukuriu funkciją, su kuria galima patikrinti, kaip dažnai kiekvienas žodis yra naudojamas būsto pavadinime \n",
    "# def is_clean(string):\n",
    "#    result = 'clean' in string\n",
    "#    return result"
   ]
  },
  {
   "cell_type": "code",
   "execution_count": 66,
   "id": "0d8859c5",
   "metadata": {
    "scrolled": true
   },
   "outputs": [],
   "source": [
    "# df_nyc['name'].map(is_clean).sum()  \n",
    "# rezultatas 331"
   ]
  },
  {
   "cell_type": "code",
   "execution_count": 67,
   "id": "5b74c97a",
   "metadata": {
    "scrolled": false
   },
   "outputs": [],
   "source": [
    "#!pip install geopandas\n",
    "#!pip install pyogrio\n",
    "#!pip install fiona"
   ]
  },
  {
   "cell_type": "code",
   "execution_count": 68,
   "id": "ad16eec3",
   "metadata": {
    "scrolled": true
   },
   "outputs": [],
   "source": [
    "#!pip uninstall fiona\n",
    "#!pip install fiona --no-binary fiona"
   ]
  },
  {
   "cell_type": "code",
   "execution_count": 69,
   "id": "60747b89",
   "metadata": {},
   "outputs": [],
   "source": [
    "import geopandas as gpd\n",
    "#import fiona\n",
    "#import pyogrio"
   ]
  },
  {
   "cell_type": "code",
   "execution_count": 70,
   "id": "abe9c570",
   "metadata": {},
   "outputs": [],
   "source": [
    "gpd.GeoDataFrame(df_nyc)\n",
    "gdf_nyc = gpd.GeoDataFrame(\n",
    "    df_nyc, geometry=gpd.points_from_xy(df_nyc.longitude, df_nyc.latitude)\n",
    ")"
   ]
  },
  {
   "cell_type": "code",
   "execution_count": 71,
   "id": "adf3134d",
   "metadata": {
    "scrolled": false
   },
   "outputs": [
    {
     "data": {
      "image/png": "[encoded data removed]",
      "text/plain": [
       "<Figure size 720x432 with 1 Axes>"
      ]
     },
     "metadata": {},
     "output_type": "display_data"
    }
   ],
   "source": [
    "gpd.GeoDataFrame(df_nyc)\n",
    "gdf_nyc = gpd.GeoDataFrame(\n",
    "    df_nyc, geometry=gpd.points_from_xy(df_nyc.longitude, df_nyc.latitude))\n",
    "gdf_nyc.plot(color = 'green', figsize = (10,6))\n",
    "plt.title('Geolocation AirBnb properties in New York')\n",
    "plt.show()"
   ]
  },
  {
   "cell_type": "code",
   "execution_count": 72,
   "id": "fb27e2a7",
   "metadata": {},
   "outputs": [],
   "source": [
    "# žemėlapiai, ant kurių formuoti grafiką\n",
    "# world = gpd.read_file(gpd.datasets.get_path('naturalearth_lowres'))\n",
    "# street_map = gpd.read_file('/content/geo_export_1f88d1b8–51fd-42aa-84b0–22d7bad6bc6f.shp')\n",
    "# street_map = gpd.read_file(\"C:\\Users\\sandr\\Downloads\\Borough Boundaries\\geo_export_533bedef-cab2-45a0-b163-7ac832c35c4c.shp\")\n",
    "# world = gpd.read_file('C:/Users/sandr/Downloads/archive/New_York_City_.png')"
   ]
  },
  {
   "cell_type": "markdown",
   "id": "0c20cf3b",
   "metadata": {},
   "source": [
    "## Išvados"
   ]
  },
  {
   "cell_type": "code",
   "execution_count": 73,
   "id": "3bf0bd2e",
   "metadata": {},
   "outputs": [],
   "source": [
    "# Dauguma siūlomų būstų nuomai Niujorke yra privataus namo/apartamento tipo (iš viso tokių būstų yra 52% visų siūlomų).\n",
    "# Daugiausiai laisvų kambarių turi Staten Island rajonas.\n",
    "# Manheteno rajono (kuriame yra net 44% visų būstų) užimtumas yra didžiausias, taip pat šiame rajone yra siuloma daugiausiai \n",
    "# būsto nuomai. Šiame rajone daugiausiai siūlomi privatūs namai/apartamentai.\n",
    "# Brooklyne siūloma daugiau privačių kambarių nei Manhattane, \n",
    "# Vidutiniškai, imant visus apsistojimus bendrai, svečiai apsistoja 7 dienas, tačiau dažniausiai apsistoja 3 dienas. \n",
    "# Ilgiausiai apsistojama Manheteno rajone, t.y. apie 9 dienas. Spuyten Duyvil kaimynystėje apsistojama ilgiausiai, t.y. apie 48 dienas.\n",
    "# Didžiausias būstų užimtumas yra Brooklino nei Manheteno rajonuose.\n",
    "# Daugiausiai būstų siūloma Williamsburg kaimynystėje. \n",
    "# Vidutinė nuomos kaina Niujorke yra 152.74 $. Tolygiausiai kainos pasiskirsčiusios būstuose su bendrais patogumais, \n",
    "# o netolygiausiai privačiuose apartamentuose. Didžiausi kainų skirtumai yra Manhetene.\n",
    "# Kaip ir tikimasi, privatūs aparatamentai yra brangiausi. pigiausias būstas nuomai Concord bei Castle Hill kaimynystėse.\n",
    "# Brangiausias būstas nuomai yra Fort Wadsworth bei Woodrow kaimynystėse.\n",
    "# Daugiausiai naktų apsistojama Spuyten Duyvil kaimynystėje (vidutiniškai 48 naktis). Mažiausiai naktų -Spuyten Duyvil (48.25)\n",
    "# Daugiausiai apsilankymų buvo Hillside viešbutyje. Populiariausias naudojamas žodis pavadinime yra “Clean”. \n",
    "# Pagal visus būsto tipus, pigesni yra būstai, kurie turi mažiau atsiliepimų. \n",
    "# Daugiausiai atsiliepimų yra Birželio mėnesį (galime spręsti, jog šis mėnesis yra palankiausias būstų nuomotojams). \n",
    "# Vasario mėnesį mažiausiai atsiliepimų, todėl sprendžiama, jog mažiausiai būstų nuomojama šį mėnesį. \n"
   ]
  },
  {
   "cell_type": "markdown",
   "id": "672d3a43",
   "metadata": {},
   "source": [
    "## Tolimesnė analizė"
   ]
  },
  {
   "cell_type": "code",
   "execution_count": 74,
   "id": "79075f01",
   "metadata": {},
   "outputs": [],
   "source": [
    "# Būtų svarbu surasti nusikaltamumo duomenis ir panagrinėti, kaip nusikaltimų skaičius rajonuose bei kaimynystėse daro\n",
    "# įtaką nuomos rinkai. Taip pat turint būsto įvertinimus bei komentarus, būtų galima atlikti detalesnę analizę. \n"
   ]
  }
 ],
 "metadata": {
  "kernelspec": {
   "display_name": "Python 3 (ipykernel)",
   "language": "python",
   "name": "python3"
  },
  "language_info": {
   "codemirror_mode": {
    "name": "ipython",
    "version": 3
   },
   "file_extension": ".py",
   "mimetype": "text/x-python",
   "name": "python",
   "nbconvert_exporter": "python",
   "pygments_lexer": "ipython3",
   "version": "3.9.12"
  }
 },
 "nbformat": 4,
 "nbformat_minor": 5
}
